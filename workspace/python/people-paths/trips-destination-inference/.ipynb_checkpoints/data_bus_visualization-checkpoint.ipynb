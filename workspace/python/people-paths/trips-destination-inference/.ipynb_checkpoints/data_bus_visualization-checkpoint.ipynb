{
 "cells": [
  {
   "cell_type": "markdown",
   "metadata": {
    "colab_type": "text",
    "id": "iom7DcjMvjvE"
   },
   "source": [
    "# Bus Trips Analysis\n",
    "## Questões\n",
    "1 - Qual a diferença entre o embarque no primeiro e o segundo ? \n",
    "2 - Considerando a baldeação qual a quantidade de viagens em que a diferença entre o primeiro e o segundo ônibus é maior que 70 minutos ?\n",
    "3 - Qual o horário em que as baldeações ultrapassam 70 minutos ?\n",
    "4 - Quais são as provavéis causas para os atrasos ? O período de descanso dos motoristas(intervalo) influencia nos atrasos ? Nos horários de pico existem atrasos ? Nestes mesmos horários a quantidade de ônibus aumenta ?"
   ]
  },
  {
   "cell_type": "markdown",
   "metadata": {
    "colab_type": "text",
    "id": "g8SmZAEYnD_D"
   },
   "source": [
    "Importação de depêndencias"
   ]
  },
  {
   "cell_type": "code",
   "execution_count": 1,
   "metadata": {
    "colab": {},
    "colab_type": "code",
    "id": "HG56hn-GuBTH"
   },
   "outputs": [],
   "source": [
    "import pandas as pd\n",
    "import numpy as np\n",
    "from datetime import datetime\n",
    "import matplotlib.pyplot as plt\n",
    "import pandas_profiling as pp\n",
    "from datetime import datetime, timedelta\n",
    "%matplotlib inline\n",
    "\n",
    "\n",
    "plt.style.use('ggplot')"
   ]
  },
  {
   "cell_type": "markdown",
   "metadata": {
    "colab_type": "text",
    "id": "fGwVLaWHnTVm"
   },
   "source": [
    "Importação de arquivo csv e visualização das principais colunas"
   ]
  },
  {
   "cell_type": "code",
   "execution_count": 4,
   "metadata": {
    "colab": {},
    "colab_type": "code",
    "id": "8dZBLsk8u9Rq"
   },
   "outputs": [],
   "source": [
    "bus_itineraries = pd.read_csv('data/output/output_bulma_otp.csv')"
   ]
  },
  {
   "cell_type": "code",
   "execution_count": 7,
   "metadata": {
    "colab": {
     "base_uri": "https://localhost:8080/",
     "height": 309
    },
    "colab_type": "code",
    "executionInfo": {
     "elapsed": 1175,
     "status": "ok",
     "timestamp": 1576680206739,
     "user": {
      "displayName": "Hector Medeiros",
      "photoUrl": "",
      "userId": "01843101358687313990"
     },
     "user_tz": 180
    },
    "id": "xoRVVDrjvOLK",
    "outputId": "ac96e358-1e1d-4c2e-a127-aa0c04b5be88"
   },
   "outputs": [
    {
     "data": {
      "text/html": [
       "<div>\n",
       "<style scoped>\n",
       "    .dataframe tbody tr th:only-of-type {\n",
       "        vertical-align: middle;\n",
       "    }\n",
       "\n",
       "    .dataframe tbody tr th {\n",
       "        vertical-align: top;\n",
       "    }\n",
       "\n",
       "    .dataframe thead th {\n",
       "        text-align: right;\n",
       "    }\n",
       "</style>\n",
       "<table border=\"1\" class=\"dataframe\">\n",
       "  <thead>\n",
       "    <tr style=\"text-align: right;\">\n",
       "      <th></th>\n",
       "      <th>otp_itinerary_id</th>\n",
       "      <th>otp_leg_id</th>\n",
       "      <th>otp_mode</th>\n",
       "      <th>otp_start_time</th>\n",
       "      <th>otp_end_time</th>\n",
       "      <th>bt_start_time</th>\n",
       "      <th>bt_end_time</th>\n",
       "      <th>bt_duration_mins</th>\n",
       "    </tr>\n",
       "  </thead>\n",
       "  <tbody>\n",
       "    <tr>\n",
       "      <th>0</th>\n",
       "      <td>9</td>\n",
       "      <td>1</td>\n",
       "      <td>WALK</td>\n",
       "      <td>2019-05-13 5:26:45</td>\n",
       "      <td>2019-05-13 5:26:46</td>\n",
       "      <td>2019-05-13 6:29:21</td>\n",
       "      <td>2019-05-13 6:29:21</td>\n",
       "      <td>NaN</td>\n",
       "    </tr>\n",
       "    <tr>\n",
       "      <th>1</th>\n",
       "      <td>9</td>\n",
       "      <td>2</td>\n",
       "      <td>BUS</td>\n",
       "      <td>2019-05-13 5:26:47</td>\n",
       "      <td>2019-05-13 5:55:02</td>\n",
       "      <td>2019-05-13 6:29:21</td>\n",
       "      <td>2019-05-13 7:04:54</td>\n",
       "      <td>3.555000e+03</td>\n",
       "    </tr>\n",
       "    <tr>\n",
       "      <th>2</th>\n",
       "      <td>9</td>\n",
       "      <td>3</td>\n",
       "      <td>WALK</td>\n",
       "      <td>2019-05-13 5:55:02</td>\n",
       "      <td>2019-05-13 5:57:21</td>\n",
       "      <td>2019-05-13 7:04:54</td>\n",
       "      <td>2019-05-13 7:06:54</td>\n",
       "      <td>NaN</td>\n",
       "    </tr>\n",
       "    <tr>\n",
       "      <th>3</th>\n",
       "      <td>9</td>\n",
       "      <td>4</td>\n",
       "      <td>BUS</td>\n",
       "      <td>2019-05-13 6:01:05</td>\n",
       "      <td>2019-05-13 6:08:04</td>\n",
       "      <td>2019-05-13 7:15:28</td>\n",
       "      <td>2019-05-13 7:25:09</td>\n",
       "      <td>9.683330e+15</td>\n",
       "    </tr>\n",
       "    <tr>\n",
       "      <th>4</th>\n",
       "      <td>9</td>\n",
       "      <td>5</td>\n",
       "      <td>WALK</td>\n",
       "      <td>2019-05-13 6:08:05</td>\n",
       "      <td>2019-05-13 6:08:06</td>\n",
       "      <td>2019-05-13 7:25:09</td>\n",
       "      <td>2019-05-13 7:25:09</td>\n",
       "      <td>NaN</td>\n",
       "    </tr>\n",
       "  </tbody>\n",
       "</table>\n",
       "</div>"
      ],
      "text/plain": [
       "   otp_itinerary_id  otp_leg_id otp_mode      otp_start_time  \\\n",
       "0                 9           1     WALK  2019-05-13 5:26:45   \n",
       "1                 9           2      BUS  2019-05-13 5:26:47   \n",
       "2                 9           3     WALK  2019-05-13 5:55:02   \n",
       "3                 9           4      BUS  2019-05-13 6:01:05   \n",
       "4                 9           5     WALK  2019-05-13 6:08:05   \n",
       "\n",
       "         otp_end_time       bt_start_time         bt_end_time  \\\n",
       "0  2019-05-13 5:26:46  2019-05-13 6:29:21  2019-05-13 6:29:21   \n",
       "1  2019-05-13 5:55:02  2019-05-13 6:29:21  2019-05-13 7:04:54   \n",
       "2  2019-05-13 5:57:21  2019-05-13 7:04:54  2019-05-13 7:06:54   \n",
       "3  2019-05-13 6:08:04  2019-05-13 7:15:28  2019-05-13 7:25:09   \n",
       "4  2019-05-13 6:08:06  2019-05-13 7:25:09  2019-05-13 7:25:09   \n",
       "\n",
       "   bt_duration_mins  \n",
       "0               NaN  \n",
       "1      3.555000e+03  \n",
       "2               NaN  \n",
       "3      9.683330e+15  \n",
       "4               NaN  "
      ]
     },
     "execution_count": 7,
     "metadata": {},
     "output_type": "execute_result"
    }
   ],
   "source": [
    "bus_itineraries[['otp_itinerary_id',\"otp_leg_id\",\"otp_mode\", \"otp_start_time\",\"otp_end_time\", \"bt_start_time\",\"bt_end_time\", \"bt_duration_mins\"]].head()"
   ]
  },
  {
   "cell_type": "code",
   "execution_count": 0,
   "metadata": {
    "colab": {},
    "colab_type": "code",
    "id": "f2_cqfk2yKLE"
   },
   "outputs": [],
   "source": [
    "#filtered_sched_obs_start_time = bus_itineraries.sched_obs_start_timediff.dropna()\n",
    "#mean = filtered_sched_obs_start_time.apply(lambda x: np.mean(x))\n",
    "#parsed_sched_obs_start_time = filtered_sched_obs_start_time.apply(lambda x : x/pd.Timedelta('1m'))\n",
    "\n",
    "#filtered_sched_obs_end_time = bus_itineraries.sched_obs_end_timediff.dropna()\n",
    "#mean = filtered_sched_obs_start_time.apply(lambda x: np.mean(x))\n",
    "#parsed_sched_obs_end_time = filtered_sched_obs_end_time.apply(lambda x : x/pd.Timedelta('1m'))\n",
    "\n",
    "#diff_trip_time = parsed_sched_obs_end_time - parsed_sched_obs_start_time\n",
    "\n",
    "#diff_trip_time"
   ]
  },
  {
   "cell_type": "markdown",
   "metadata": {
    "colab_type": "text",
    "id": "d0cdVa92DQ_W"
   },
   "source": [
    "## Duração total da viagem observada"
   ]
  },
  {
   "cell_type": "code",
   "execution_count": 0,
   "metadata": {
    "colab": {},
    "colab_type": "code",
    "id": "38LPZcipj-DU"
   },
   "outputs": [],
   "source": [
    "bt_duration_mins = bus_itineraries.bt_duration_mins.dropna()"
   ]
  },
  {
   "cell_type": "code",
   "execution_count": 108,
   "metadata": {
    "colab": {
     "base_uri": "https://localhost:8080/",
     "height": 173
    },
    "colab_type": "code",
    "executionInfo": {
     "elapsed": 1703,
     "status": "ok",
     "timestamp": 1576681477288,
     "user": {
      "displayName": "Hector Medeiros",
      "photoUrl": "",
      "userId": "01843101358687313990"
     },
     "user_tz": 180
    },
    "id": "6HMPXVcghk1I",
    "outputId": "4b700108-3f3c-4467-eaaf-62c06afb9bd9"
   },
   "outputs": [
    {
     "data": {
      "text/plain": [
       "count    476.000000\n",
       "mean      27.158263\n",
       "std       16.272643\n",
       "min        0.633333\n",
       "25%       11.250000\n",
       "50%       27.583333\n",
       "75%       38.775000\n",
       "max      112.733333\n",
       "Name: bt_duration_mins, dtype: float64"
      ]
     },
     "execution_count": 108,
     "metadata": {
      "tags": []
     },
     "output_type": "execute_result"
    }
   ],
   "source": [
    "bt_duration_mins.describe()"
   ]
  },
  {
   "cell_type": "code",
   "execution_count": 109,
   "metadata": {
    "colab": {
     "base_uri": "https://localhost:8080/",
     "height": 265
    },
    "colab_type": "code",
    "executionInfo": {
     "elapsed": 1686,
     "status": "ok",
     "timestamp": 1576681482603,
     "user": {
      "displayName": "Hector Medeiros",
      "photoUrl": "",
      "userId": "01843101358687313990"
     },
     "user_tz": 180
    },
    "id": "buas1Wj2kxK1",
    "outputId": "425c5215-fb63-49af-8d44-156ee82271e6"
   },
   "outputs": [
    {
     "data": {
      "image/png": "[encoded data removed]",
      "text/plain": [
       "<Figure size 432x288 with 1 Axes>"
      ]
     },
     "metadata": {
      "tags": []
     },
     "output_type": "display_data"
    }
   ],
   "source": [
    "plt.boxplot(bt_duration_mins)\n",
    "plt.show()"
   ]
  },
  {
   "cell_type": "code",
   "execution_count": 110,
   "metadata": {
    "colab": {
     "base_uri": "https://localhost:8080/",
     "height": 317
    },
    "colab_type": "code",
    "executionInfo": {
     "elapsed": 1166,
     "status": "ok",
     "timestamp": 1576681511315,
     "user": {
      "displayName": "Hector Medeiros",
      "photoUrl": "",
      "userId": "01843101358687313990"
     },
     "user_tz": 180
    },
    "id": "Zn71Y_nGlFz-",
    "outputId": "51040876-dbc2-40f6-d689-5308720f4a81"
   },
   "outputs": [
    {
     "data": {
      "image/png": "[encoded data removed]",
      "text/plain": [
       "<Figure size 432x288 with 1 Axes>"
      ]
     },
     "metadata": {
      "tags": []
     },
     "output_type": "display_data"
    },
    {
     "data": {
      "text/plain": [
       "<Figure size 720x360 with 0 Axes>"
      ]
     },
     "metadata": {
      "tags": []
     },
     "output_type": "display_data"
    }
   ],
   "source": [
    "plt.hist(bt_duration_mins)\n",
    "plt.title('Distribuição de viagens unitárias de ônibus')\n",
    "plt.xlabel('Tempo da viagem em minutos')\n",
    "plt.ylabel('Frequência')\n",
    "plt.figure(figsize=(10,5))\n",
    "plt.show()"
   ]
  },
  {
   "cell_type": "code",
   "execution_count": 9,
   "metadata": {
    "colab": {},
    "colab_type": "code",
    "id": "5VFpFN3fsgtU"
   },
   "outputs": [],
   "source": [
    "df = bus_itineraries"
   ]
  },
  {
   "cell_type": "code",
   "execution_count": 10,
   "metadata": {
    "colab": {
     "base_uri": "https://localhost:8080/",
     "height": 35
    },
    "colab_type": "code",
    "executionInfo": {
     "elapsed": 1977,
     "status": "ok",
     "timestamp": 1576678263934,
     "user": {
      "displayName": "Hector Medeiros",
      "photoUrl": "",
      "userId": "01843101358687313990"
     },
     "user_tz": 180
    },
    "id": "atf253W3fLAf",
    "outputId": "f5cbef15-677c-42ce-bfb6-241304befec4"
   },
   "outputs": [
    {
     "data": {
      "text/plain": [
       "20009"
      ]
     },
     "execution_count": 10,
     "metadata": {},
     "output_type": "execute_result"
    }
   ],
   "source": [
    "df.groupby(['otp_user_trip_id']).apply(lambda x: str(x['bt_start_time']))\n",
    "#df.groupby(['otp_user_trip_id']).apply(lambda x: pd.to_datetime(x['bt_start_time']))\n",
    "df.bt_start_time.dtype\n",
    "df.size\n"
   ]
  },
  {
   "cell_type": "code",
   "execution_count": 14,
   "metadata": {},
   "outputs": [
    {
     "data": {
      "text/html": [
       "<div>\n",
       "<style scoped>\n",
       "    .dataframe tbody tr th:only-of-type {\n",
       "        vertical-align: middle;\n",
       "    }\n",
       "\n",
       "    .dataframe tbody tr th {\n",
       "        vertical-align: top;\n",
       "    }\n",
       "\n",
       "    .dataframe thead th {\n",
       "        text-align: right;\n",
       "    }\n",
       "</style>\n",
       "<table border=\"1\" class=\"dataframe\">\n",
       "  <thead>\n",
       "    <tr style=\"text-align: right;\">\n",
       "      <th></th>\n",
       "      <th>otp_itinerary_id</th>\n",
       "      <th>otp_leg_id</th>\n",
       "      <th>otp_mode</th>\n",
       "      <th>otp_start_time</th>\n",
       "      <th>otp_end_time</th>\n",
       "      <th>bt_start_time</th>\n",
       "      <th>bt_end_time</th>\n",
       "      <th>bt_duration_mins</th>\n",
       "    </tr>\n",
       "  </thead>\n",
       "  <tbody>\n",
       "    <tr>\n",
       "      <th>0</th>\n",
       "      <td>9</td>\n",
       "      <td>1</td>\n",
       "      <td>WALK</td>\n",
       "      <td>2019-05-13 5:26:45</td>\n",
       "      <td>2019-05-13 5:26:46</td>\n",
       "      <td>2019-05-13 6:29:21</td>\n",
       "      <td>2019-05-13 6:29:21</td>\n",
       "      <td>NaN</td>\n",
       "    </tr>\n",
       "    <tr>\n",
       "      <th>1</th>\n",
       "      <td>9</td>\n",
       "      <td>2</td>\n",
       "      <td>BUS</td>\n",
       "      <td>2019-05-13 5:26:47</td>\n",
       "      <td>2019-05-13 5:55:02</td>\n",
       "      <td>2019-05-13 6:29:21</td>\n",
       "      <td>2019-05-13 7:04:54</td>\n",
       "      <td>3.555000e+03</td>\n",
       "    </tr>\n",
       "    <tr>\n",
       "      <th>2</th>\n",
       "      <td>9</td>\n",
       "      <td>3</td>\n",
       "      <td>WALK</td>\n",
       "      <td>2019-05-13 5:55:02</td>\n",
       "      <td>2019-05-13 5:57:21</td>\n",
       "      <td>2019-05-13 7:04:54</td>\n",
       "      <td>2019-05-13 7:06:54</td>\n",
       "      <td>NaN</td>\n",
       "    </tr>\n",
       "    <tr>\n",
       "      <th>3</th>\n",
       "      <td>9</td>\n",
       "      <td>4</td>\n",
       "      <td>BUS</td>\n",
       "      <td>2019-05-13 6:01:05</td>\n",
       "      <td>2019-05-13 6:08:04</td>\n",
       "      <td>2019-05-13 7:15:28</td>\n",
       "      <td>2019-05-13 7:25:09</td>\n",
       "      <td>9.683330e+15</td>\n",
       "    </tr>\n",
       "    <tr>\n",
       "      <th>4</th>\n",
       "      <td>9</td>\n",
       "      <td>5</td>\n",
       "      <td>WALK</td>\n",
       "      <td>2019-05-13 6:08:05</td>\n",
       "      <td>2019-05-13 6:08:06</td>\n",
       "      <td>2019-05-13 7:25:09</td>\n",
       "      <td>2019-05-13 7:25:09</td>\n",
       "      <td>NaN</td>\n",
       "    </tr>\n",
       "  </tbody>\n",
       "</table>\n",
       "</div>"
      ],
      "text/plain": [
       "   otp_itinerary_id  otp_leg_id otp_mode      otp_start_time  \\\n",
       "0                 9           1     WALK  2019-05-13 5:26:45   \n",
       "1                 9           2      BUS  2019-05-13 5:26:47   \n",
       "2                 9           3     WALK  2019-05-13 5:55:02   \n",
       "3                 9           4      BUS  2019-05-13 6:01:05   \n",
       "4                 9           5     WALK  2019-05-13 6:08:05   \n",
       "\n",
       "         otp_end_time       bt_start_time         bt_end_time  \\\n",
       "0  2019-05-13 5:26:46  2019-05-13 6:29:21  2019-05-13 6:29:21   \n",
       "1  2019-05-13 5:55:02  2019-05-13 6:29:21  2019-05-13 7:04:54   \n",
       "2  2019-05-13 5:57:21  2019-05-13 7:04:54  2019-05-13 7:06:54   \n",
       "3  2019-05-13 6:08:04  2019-05-13 7:15:28  2019-05-13 7:25:09   \n",
       "4  2019-05-13 6:08:06  2019-05-13 7:25:09  2019-05-13 7:25:09   \n",
       "\n",
       "   bt_duration_mins  \n",
       "0               NaN  \n",
       "1      3.555000e+03  \n",
       "2               NaN  \n",
       "3      9.683330e+15  \n",
       "4               NaN  "
      ]
     },
     "execution_count": 14,
     "metadata": {},
     "output_type": "execute_result"
    }
   ],
   "source": [
    "bus_itineraries[['otp_itinerary_id',\"otp_leg_id\",\"otp_mode\", \"otp_start_time\",\"otp_end_time\", \"bt_start_time\",\"bt_end_time\", \"bt_duration_mins\"]].head()"
   ]
  },
  {
   "cell_type": "markdown",
   "metadata": {
    "colab_type": "text",
    "id": "D-ksxg6erJch"
   },
   "source": [
    "###Encontrando tempo total de um itinerário"
   ]
  },
  {
   "cell_type": "code",
   "execution_count": 13,
   "metadata": {
    "colab": {},
    "colab_type": "code",
    "id": "5s_9xQzM8rKh"
   },
   "outputs": [],
   "source": [
    "itinerary_id = df.otp_itinerary_id.iloc[0] #recuperando ID da primeira linha\n",
    "limit = len(df)-2 # limite para o tamanho total do df, o salto do if é de 2, então menos 2 para não\n",
    "#gerar index out bounds\n",
    "times = []\n",
    "start_time_first_bus = []\n",
    "start_time_second_bus = []\n",
    "# for i in range(len(df)-2):\n",
    "#     row = df[i]\n",
    "for i,row in enumerate(df.itertuples(),1):\n",
    "    \n",
    "    if (row.otp_leg_id % 2 == 0 and row.otp_itinerary_id == itinerary_id):#legs pares são legs da viagem de ônibus\n",
    "        flag = i-1\n",
    "        if(flag < limit):\n",
    "            print(df.otp_mode.iloc[flag+2])\n",
    "            print(df.otp_mode.iloc[flag])\n",
    "            print(flag)\n",
    "            print('-------')\n",
    "            \n",
    "            times.append( pd.to_datetime(df.bt_start_time.iloc[flag+2]) -  pd.to_datetime(df.bt_start_time.iloc[flag]))\n",
    "            start_time_first_bus.append(df.bt_start_time.iloc[flag])\n",
    "            start_time_second_bus.append(df.bt_start_time.iloc[flag+2])\n",
    "        \n",
    "        \n",
    "    itinerary_id = row.otp_itinerary_id\n"
   ]
  },
  {
   "cell_type": "code",
   "execution_count": null,
   "metadata": {},
   "outputs": [],
   "source": [
    "itinerary_id = df.otp_itinerary_id.iloc[0] #recuperando ID da primeira linha\n",
    "limit = len(df)-2 # limite para o tamanho total do df, o salto do if é de 2, então menos 2 para não\n",
    "#gerar index out bounds\n",
    "times = []\n",
    "start_time_first_bus = []\n",
    "start_time_second_bus = []\n",
    "# for i in range(len(df)-2):\n",
    "#     row = df[i]\n",
    "for i,row in enumerate(df.itertuples(),1):\n",
    "    \n",
    "    if (row.otp_leg_id % 2 == 0 and row.otp_itinerary_id == itinerary_id):#legs pares são legs da viagem de ônibus \n",
    "      flag = i-1\n",
    "      if(flag < limit):\n",
    "        times.append( pd.to_datetime(df.bt_start_time.iloc[flag+2]) -  pd.to_datetime(df.bt_start_time.iloc[flag]))\n",
    "        start_time_first_bus.append(df.bt_start_time.iloc[flag])\n",
    "        start_time_second_bus.append(df.bt_start_time.iloc[flag+2])\n",
    "        \n",
    "        \n",
    "    itinerary_id = row.otp_itinerary_id"
   ]
  },
  {
   "cell_type": "code",
   "execution_count": 97,
   "metadata": {
    "colab": {
     "base_uri": "https://localhost:8080/",
     "height": 415
    },
    "colab_type": "code",
    "executionInfo": {
     "elapsed": 1085,
     "status": "ok",
     "timestamp": 1576680514032,
     "user": {
      "displayName": "Hector Medeiros",
      "photoUrl": "",
      "userId": "01843101358687313990"
     },
     "user_tz": 180
    },
    "id": "HK5WHtos-Fuu",
    "outputId": "72dcaa8d-17b2-453d-bf56-0d417a42221d"
   },
   "outputs": [
    {
     "data": {
      "text/html": [
       "<div>\n",
       "<style scoped>\n",
       "    .dataframe tbody tr th:only-of-type {\n",
       "        vertical-align: middle;\n",
       "    }\n",
       "\n",
       "    .dataframe tbody tr th {\n",
       "        vertical-align: top;\n",
       "    }\n",
       "\n",
       "    .dataframe thead th {\n",
       "        text-align: right;\n",
       "    }\n",
       "</style>\n",
       "<table border=\"1\" class=\"dataframe\">\n",
       "  <thead>\n",
       "    <tr style=\"text-align: right;\">\n",
       "      <th></th>\n",
       "      <th>0</th>\n",
       "    </tr>\n",
       "  </thead>\n",
       "  <tbody>\n",
       "    <tr>\n",
       "      <th>0</th>\n",
       "      <td>00:46:07</td>\n",
       "    </tr>\n",
       "    <tr>\n",
       "      <th>1</th>\n",
       "      <td>-1 days +23:13:53</td>\n",
       "    </tr>\n",
       "    <tr>\n",
       "      <th>2</th>\n",
       "      <td>00:46:07</td>\n",
       "    </tr>\n",
       "    <tr>\n",
       "      <th>3</th>\n",
       "      <td>-1 days +23:13:53</td>\n",
       "    </tr>\n",
       "    <tr>\n",
       "      <th>4</th>\n",
       "      <td>00:55:11</td>\n",
       "    </tr>\n",
       "    <tr>\n",
       "      <th>...</th>\n",
       "      <td>...</td>\n",
       "    </tr>\n",
       "    <tr>\n",
       "      <th>470</th>\n",
       "      <td>01:07:05</td>\n",
       "    </tr>\n",
       "    <tr>\n",
       "      <th>471</th>\n",
       "      <td>-1 days +22:52:55</td>\n",
       "    </tr>\n",
       "    <tr>\n",
       "      <th>472</th>\n",
       "      <td>00:55:54</td>\n",
       "    </tr>\n",
       "    <tr>\n",
       "      <th>473</th>\n",
       "      <td>02:15:05</td>\n",
       "    </tr>\n",
       "    <tr>\n",
       "      <th>474</th>\n",
       "      <td>01:02:33</td>\n",
       "    </tr>\n",
       "  </tbody>\n",
       "</table>\n",
       "<p>475 rows × 1 columns</p>\n",
       "</div>"
      ],
      "text/plain": [
       "                    0\n",
       "0            00:46:07\n",
       "1   -1 days +23:13:53\n",
       "2            00:46:07\n",
       "3   -1 days +23:13:53\n",
       "4            00:55:11\n",
       "..                ...\n",
       "470          01:07:05\n",
       "471 -1 days +22:52:55\n",
       "472          00:55:54\n",
       "473          02:15:05\n",
       "474          01:02:33\n",
       "\n",
       "[475 rows x 1 columns]"
      ]
     },
     "execution_count": 97,
     "metadata": {
      "tags": []
     },
     "output_type": "execute_result"
    }
   ],
   "source": [
    "diff_bus_trips = pd.DataFrame(data=times)\n",
    "diff_bus_trips"
   ]
  },
  {
   "cell_type": "code",
   "execution_count": 111,
   "metadata": {
    "colab": {
     "base_uri": "https://localhost:8080/",
     "height": 202
    },
    "colab_type": "code",
    "executionInfo": {
     "elapsed": 980,
     "status": "ok",
     "timestamp": 1576681661900,
     "user": {
      "displayName": "Hector Medeiros",
      "photoUrl": "",
      "userId": "01843101358687313990"
     },
     "user_tz": 180
    },
    "id": "d8cRywUtx1rX",
    "outputId": "e97e6c46-d299-4d29-fad3-ad37ce9103c8"
   },
   "outputs": [
    {
     "data": {
      "text/html": [
       "<div>\n",
       "<style scoped>\n",
       "    .dataframe tbody tr th:only-of-type {\n",
       "        vertical-align: middle;\n",
       "    }\n",
       "\n",
       "    .dataframe tbody tr th {\n",
       "        vertical-align: top;\n",
       "    }\n",
       "\n",
       "    .dataframe thead th {\n",
       "        text-align: right;\n",
       "    }\n",
       "</style>\n",
       "<table border=\"1\" class=\"dataframe\">\n",
       "  <thead>\n",
       "    <tr style=\"text-align: right;\">\n",
       "      <th></th>\n",
       "      <th>horarios</th>\n",
       "      <th>primeiro_onibus</th>\n",
       "      <th>segundo_onibus</th>\n",
       "    </tr>\n",
       "  </thead>\n",
       "  <tbody>\n",
       "    <tr>\n",
       "      <th>0</th>\n",
       "      <td>00:46:07</td>\n",
       "      <td>2019-05-13 06:29:21</td>\n",
       "      <td>2019-05-13 07:15:28</td>\n",
       "    </tr>\n",
       "    <tr>\n",
       "      <th>2</th>\n",
       "      <td>00:46:07</td>\n",
       "      <td>2019-05-13 06:29:21</td>\n",
       "      <td>2019-05-13 07:15:28</td>\n",
       "    </tr>\n",
       "    <tr>\n",
       "      <th>4</th>\n",
       "      <td>00:55:11</td>\n",
       "      <td>2019-05-13 06:29:21</td>\n",
       "      <td>2019-05-13 07:24:32</td>\n",
       "    </tr>\n",
       "    <tr>\n",
       "      <th>6</th>\n",
       "      <td>00:54:07</td>\n",
       "      <td>2019-05-13 06:29:21</td>\n",
       "      <td>2019-05-13 07:23:28</td>\n",
       "    </tr>\n",
       "    <tr>\n",
       "      <th>8</th>\n",
       "      <td>00:54:07</td>\n",
       "      <td>2019-05-13 06:29:21</td>\n",
       "      <td>2019-05-13 07:23:28</td>\n",
       "    </tr>\n",
       "  </tbody>\n",
       "</table>\n",
       "</div>"
      ],
      "text/plain": [
       "  horarios      primeiro_onibus       segundo_onibus\n",
       "0 00:46:07  2019-05-13 06:29:21  2019-05-13 07:15:28\n",
       "2 00:46:07  2019-05-13 06:29:21  2019-05-13 07:15:28\n",
       "4 00:55:11  2019-05-13 06:29:21  2019-05-13 07:24:32\n",
       "6 00:54:07  2019-05-13 06:29:21  2019-05-13 07:23:28\n",
       "8 00:54:07  2019-05-13 06:29:21  2019-05-13 07:23:28"
      ]
     },
     "execution_count": 111,
     "metadata": {
      "tags": []
     },
     "output_type": "execute_result"
    }
   ],
   "source": [
    "teste = pd.DataFrame({\n",
    "    'horarios': times,\n",
    "    'primeiro_onibus': start_time_first_bus,\n",
    "    'segundo_onibus': start_time_second_bus\n",
    "})\n",
    "\n",
    "\n",
    "scheduled_bus_times2 = teste.iloc[::2]\n",
    "scheduled_bus_times2.dropna()\n",
    "scheduled_bus_times2.head()"
   ]
  },
  {
   "cell_type": "code",
   "execution_count": 0,
   "metadata": {
    "colab": {},
    "colab_type": "code",
    "id": "Ww9wlroZwA_J"
   },
   "outputs": [],
   "source": [
    "#bus_itineraries[['otp_itinerary_id',\"otp_leg_id\",\"otp_mode\", \"bt_start_time\"]].tail(50)"
   ]
  },
  {
   "cell_type": "code",
   "execution_count": 112,
   "metadata": {
    "colab": {
     "base_uri": "https://localhost:8080/",
     "height": 202
    },
    "colab_type": "code",
    "executionInfo": {
     "elapsed": 1023,
     "status": "ok",
     "timestamp": 1576681676804,
     "user": {
      "displayName": "Hector Medeiros",
      "photoUrl": "",
      "userId": "01843101358687313990"
     },
     "user_tz": 180
    },
    "id": "qOTWb_8wp9k5",
    "outputId": "9cb0b743-e214-4a0e-d4d3-064470391817"
   },
   "outputs": [
    {
     "data": {
      "text/html": [
       "<div>\n",
       "<style scoped>\n",
       "    .dataframe tbody tr th:only-of-type {\n",
       "        vertical-align: middle;\n",
       "    }\n",
       "\n",
       "    .dataframe tbody tr th {\n",
       "        vertical-align: top;\n",
       "    }\n",
       "\n",
       "    .dataframe thead th {\n",
       "        text-align: right;\n",
       "    }\n",
       "</style>\n",
       "<table border=\"1\" class=\"dataframe\">\n",
       "  <thead>\n",
       "    <tr style=\"text-align: right;\">\n",
       "      <th></th>\n",
       "      <th>horarios</th>\n",
       "    </tr>\n",
       "  </thead>\n",
       "  <tbody>\n",
       "    <tr>\n",
       "      <th>0</th>\n",
       "      <td>00:46:07</td>\n",
       "    </tr>\n",
       "    <tr>\n",
       "      <th>2</th>\n",
       "      <td>00:46:07</td>\n",
       "    </tr>\n",
       "    <tr>\n",
       "      <th>4</th>\n",
       "      <td>00:55:11</td>\n",
       "    </tr>\n",
       "    <tr>\n",
       "      <th>6</th>\n",
       "      <td>00:54:07</td>\n",
       "    </tr>\n",
       "    <tr>\n",
       "      <th>8</th>\n",
       "      <td>00:54:07</td>\n",
       "    </tr>\n",
       "  </tbody>\n",
       "</table>\n",
       "</div>"
      ],
      "text/plain": [
       "  horarios\n",
       "0 00:46:07\n",
       "2 00:46:07\n",
       "4 00:55:11\n",
       "6 00:54:07\n",
       "8 00:54:07"
      ]
     },
     "execution_count": 112,
     "metadata": {
      "tags": []
     },
     "output_type": "execute_result"
    }
   ],
   "source": [
    "#retira horário em que a diferença é negativa\n",
    "bus_times = diff_bus_trips.iloc[::2]\n",
    "bus_times.columns = ['horarios']\n",
    "bus_times.dropna()\n",
    "bus_times.head()"
   ]
  },
  {
   "cell_type": "code",
   "execution_count": 0,
   "metadata": {
    "colab": {},
    "colab_type": "code",
    "id": "eZ18hBUUvR-p"
   },
   "outputs": [],
   "source": [
    "#bus_times.to_csv('/bus_times.csv', index=False)"
   ]
  },
  {
   "cell_type": "code",
   "execution_count": 52,
   "metadata": {
    "colab": {
     "base_uri": "https://localhost:8080/",
     "height": 294
    },
    "colab_type": "code",
    "executionInfo": {
     "elapsed": 2561,
     "status": "ok",
     "timestamp": 1576678264572,
     "user": {
      "displayName": "Hector Medeiros",
      "photoUrl": "",
      "userId": "01843101358687313990"
     },
     "user_tz": 180
    },
    "id": "bhdGLV_D7nEM",
    "outputId": "0c74a8ac-b76b-46ea-98e8-bac25128f952"
   },
   "outputs": [
    {
     "data": {
      "text/html": [
       "<div>\n",
       "<style scoped>\n",
       "    .dataframe tbody tr th:only-of-type {\n",
       "        vertical-align: middle;\n",
       "    }\n",
       "\n",
       "    .dataframe tbody tr th {\n",
       "        vertical-align: top;\n",
       "    }\n",
       "\n",
       "    .dataframe thead th {\n",
       "        text-align: right;\n",
       "    }\n",
       "</style>\n",
       "<table border=\"1\" class=\"dataframe\">\n",
       "  <thead>\n",
       "    <tr style=\"text-align: right;\">\n",
       "      <th></th>\n",
       "      <th>horarios</th>\n",
       "    </tr>\n",
       "  </thead>\n",
       "  <tbody>\n",
       "    <tr>\n",
       "      <th>count</th>\n",
       "      <td>238</td>\n",
       "    </tr>\n",
       "    <tr>\n",
       "      <th>mean</th>\n",
       "      <td>0 days 01:02:50.399159</td>\n",
       "    </tr>\n",
       "    <tr>\n",
       "      <th>std</th>\n",
       "      <td>0 days 00:24:18.504437</td>\n",
       "    </tr>\n",
       "    <tr>\n",
       "      <th>min</th>\n",
       "      <td>0 days 00:33:37</td>\n",
       "    </tr>\n",
       "    <tr>\n",
       "      <th>25%</th>\n",
       "      <td>0 days 00:47:02</td>\n",
       "    </tr>\n",
       "    <tr>\n",
       "      <th>50%</th>\n",
       "      <td>0 days 00:54:09</td>\n",
       "    </tr>\n",
       "    <tr>\n",
       "      <th>75%</th>\n",
       "      <td>0 days 01:09:54.750000</td>\n",
       "    </tr>\n",
       "    <tr>\n",
       "      <th>max</th>\n",
       "      <td>0 days 02:58:13</td>\n",
       "    </tr>\n",
       "  </tbody>\n",
       "</table>\n",
       "</div>"
      ],
      "text/plain": [
       "                     horarios\n",
       "count                     238\n",
       "mean   0 days 01:02:50.399159\n",
       "std    0 days 00:24:18.504437\n",
       "min           0 days 00:33:37\n",
       "25%           0 days 00:47:02\n",
       "50%           0 days 00:54:09\n",
       "75%    0 days 01:09:54.750000\n",
       "max           0 days 02:58:13"
      ]
     },
     "execution_count": 52,
     "metadata": {
      "tags": []
     },
     "output_type": "execute_result"
    }
   ],
   "source": [
    "bus_times.describe()"
   ]
  },
  {
   "cell_type": "code",
   "execution_count": 54,
   "metadata": {
    "colab": {
     "base_uri": "https://localhost:8080/",
     "height": 52
    },
    "colab_type": "code",
    "executionInfo": {
     "elapsed": 2545,
     "status": "ok",
     "timestamp": 1576678264573,
     "user": {
      "displayName": "Hector Medeiros",
      "photoUrl": "",
      "userId": "01843101358687313990"
     },
     "user_tz": 180
    },
    "id": "OB0q1xxGlkF4",
    "outputId": "a43336f2-d0f6-4b06-a48b-f3e74a24c831"
   },
   "outputs": [
    {
     "data": {
      "text/plain": [
       "horarios    timedelta64[ns]\n",
       "dtype: object"
      ]
     },
     "execution_count": 54,
     "metadata": {
      "tags": []
     },
     "output_type": "execute_result"
    }
   ],
   "source": [
    "bus_times.dtypes"
   ]
  },
  {
   "cell_type": "code",
   "execution_count": 101,
   "metadata": {
    "colab": {
     "base_uri": "https://localhost:8080/",
     "height": 371
    },
    "colab_type": "code",
    "executionInfo": {
     "elapsed": 1201,
     "status": "ok",
     "timestamp": 1576680754815,
     "user": {
      "displayName": "Hector Medeiros",
      "photoUrl": "",
      "userId": "01843101358687313990"
     },
     "user_tz": 180
    },
    "id": "j62d3B6z4e1U",
    "outputId": "c6f9b53a-9731-4c60-b8a0-0bf2f13af77e"
   },
   "outputs": [
    {
     "data": {
      "text/plain": [
       "Text(0.5, 1.0, 'Distribuição do tempo das viagens')"
      ]
     },
     "execution_count": 101,
     "metadata": {
      "tags": []
     },
     "output_type": "execute_result"
    },
    {
     "data": {
      "image/png": "[encoded data removed]",
      "text/plain": [
       "<Figure size 720x360 with 1 Axes>"
      ]
     },
     "metadata": {
      "tags": []
     },
     "output_type": "display_data"
    }
   ],
   "source": [
    "times_plot = bus_times.astype('timedelta64[m]').plot.hist(alpha = 0.8, figsize=(10,5),  color=\"orange\")\n",
    "times_plot.set_xlabel(\"Tempo em minutos\")\n",
    "times_plot.set_ylabel(\"Frequência\")\n",
    "times_plot.set_title(\"Distribuição do tempo das viagens\")"
   ]
  },
  {
   "cell_type": "code",
   "execution_count": 99,
   "metadata": {
    "colab": {
     "base_uri": "https://localhost:8080/",
     "height": 371
    },
    "colab_type": "code",
    "executionInfo": {
     "elapsed": 1148,
     "status": "ok",
     "timestamp": 1576680576914,
     "user": {
      "displayName": "Hector Medeiros",
      "photoUrl": "",
      "userId": "01843101358687313990"
     },
     "user_tz": 180
    },
    "id": "tWxbfrfqgktE",
    "outputId": "4729badc-d9c7-4e1b-8ead-dc507d39bcf4"
   },
   "outputs": [
    {
     "data": {
      "text/plain": [
       "Text(0.5, 1.0, 'Gráfico de densidade')"
      ]
     },
     "execution_count": 99,
     "metadata": {
      "tags": []
     },
     "output_type": "execute_result"
    },
    {
     "data": {
      "image/png": "[encoded data removed]",
      "text/plain": [
       "<Figure size 720x360 with 1 Axes>"
      ]
     },
     "metadata": {
      "tags": []
     },
     "output_type": "display_data"
    }
   ],
   "source": [
    "density_bus_times = bus_times.astype('timedelta64[m]').plot.density(figsize=(10,5))\n",
    "density_bus_times.set_xlabel(\"Tempo em minutos\")\n",
    "density_bus_times.set_ylabel(\"Densidade\")\n",
    "density_bus_times.set_title(\"Gráfico de densidade\")"
   ]
  },
  {
   "cell_type": "code",
   "execution_count": 57,
   "metadata": {
    "colab": {
     "base_uri": "https://localhost:8080/",
     "height": 283
    },
    "colab_type": "code",
    "executionInfo": {
     "elapsed": 3710,
     "status": "ok",
     "timestamp": 1576678265772,
     "user": {
      "displayName": "Hector Medeiros",
      "photoUrl": "",
      "userId": "01843101358687313990"
     },
     "user_tz": 180
    },
    "id": "5Dber9Le-Kbd",
    "outputId": "0ba4b670-fe73-44e9-c845-af040d625554"
   },
   "outputs": [
    {
     "data": {
      "text/plain": [
       "<matplotlib.axes._subplots.AxesSubplot at 0x7fd8761e1c88>"
      ]
     },
     "execution_count": 57,
     "metadata": {
      "tags": []
     },
     "output_type": "execute_result"
    },
    {
     "data": {
      "image/png": "[encoded data removed]",
      "text/plain": [
       "<Figure size 432x288 with 1 Axes>"
      ]
     },
     "metadata": {
      "tags": []
     },
     "output_type": "display_data"
    }
   ],
   "source": [
    "bus_times.astype('timedelta64[m]').plot.box()"
   ]
  },
  {
   "cell_type": "markdown",
   "metadata": {
    "colab_type": "text",
    "id": "1HXU2QrOQp2P"
   },
   "source": [
    "##Análise sobre a integração temporal\n",
    "\n",
    "- Quantos itinerários o  tempo entre embarcar no primeiro ônibuse e realizar a baldeação é menor que 70 minutos ?  "
   ]
  },
  {
   "cell_type": "markdown",
   "metadata": {
    "colab_type": "text",
    "id": "hhKcUyzhaJFh"
   },
   "source": [
    "Número total de horários de ônibus após validação"
   ]
  },
  {
   "cell_type": "code",
   "execution_count": 58,
   "metadata": {
    "colab": {
     "base_uri": "https://localhost:8080/",
     "height": 35
    },
    "colab_type": "code",
    "executionInfo": {
     "elapsed": 3699,
     "status": "ok",
     "timestamp": 1576678265772,
     "user": {
      "displayName": "Hector Medeiros",
      "photoUrl": "",
      "userId": "01843101358687313990"
     },
     "user_tz": 180
    },
    "id": "nYm_f2ZpUvsm",
    "outputId": "9af4cd51-726e-4845-f1d0-42cc07675442"
   },
   "outputs": [
    {
     "data": {
      "text/plain": [
       "238"
      ]
     },
     "execution_count": 58,
     "metadata": {
      "tags": []
     },
     "output_type": "execute_result"
    }
   ],
   "source": [
    "bus_times.size"
   ]
  },
  {
   "cell_type": "code",
   "execution_count": 0,
   "metadata": {
    "colab": {},
    "colab_type": "code",
    "id": "rRItGFX1SKvO"
   },
   "outputs": [],
   "source": [
    "gte_70min = bus_times[bus_times.horarios > timedelta(minutes=70)]\n",
    "lte_70min = bus_times[bus_times.horarios <= timedelta(minutes=70)]"
   ]
  },
  {
   "cell_type": "markdown",
   "metadata": {
    "colab_type": "text",
    "id": "H25q5seKaTC6"
   },
   "source": [
    "Número total de itinerários que o tempo entre o primeiro e o segundo ônibus é maior que 70 minutos:"
   ]
  },
  {
   "cell_type": "code",
   "execution_count": 60,
   "metadata": {
    "colab": {
     "base_uri": "https://localhost:8080/",
     "height": 35
    },
    "colab_type": "code",
    "executionInfo": {
     "elapsed": 3685,
     "status": "ok",
     "timestamp": 1576678265773,
     "user": {
      "displayName": "Hector Medeiros",
      "photoUrl": "",
      "userId": "01843101358687313990"
     },
     "user_tz": 180
    },
    "id": "o5IqmTZHXISh",
    "outputId": "9024054c-f08b-4360-ec6e-c97a539be1d9"
   },
   "outputs": [
    {
     "data": {
      "text/plain": [
       "56"
      ]
     },
     "execution_count": 60,
     "metadata": {
      "tags": []
     },
     "output_type": "execute_result"
    }
   ],
   "source": [
    "gte_70min.size"
   ]
  },
  {
   "cell_type": "markdown",
   "metadata": {
    "colab_type": "text",
    "id": "D_iPqB-jaiov"
   },
   "source": [
    "Número total de itinerários que o tempo entre o primeiro e o segundo ônibus é menor que 70 minutos:"
   ]
  },
  {
   "cell_type": "code",
   "execution_count": 61,
   "metadata": {
    "colab": {
     "base_uri": "https://localhost:8080/",
     "height": 35
    },
    "colab_type": "code",
    "executionInfo": {
     "elapsed": 3677,
     "status": "ok",
     "timestamp": 1576678265774,
     "user": {
      "displayName": "Hector Medeiros",
      "photoUrl": "",
      "userId": "01843101358687313990"
     },
     "user_tz": 180
    },
    "id": "Bl8YCFakXNcJ",
    "outputId": "bec0c1e6-9a1b-4b81-e68d-65f7de9698a2"
   },
   "outputs": [
    {
     "data": {
      "text/plain": [
       "182"
      ]
     },
     "execution_count": 61,
     "metadata": {
      "tags": []
     },
     "output_type": "execute_result"
    }
   ],
   "source": [
    "lte_70min.size"
   ]
  },
  {
   "cell_type": "code",
   "execution_count": 79,
   "metadata": {
    "colab": {
     "base_uri": "https://localhost:8080/",
     "height": 35
    },
    "colab_type": "code",
    "executionInfo": {
     "elapsed": 966,
     "status": "ok",
     "timestamp": 1576679206103,
     "user": {
      "displayName": "Hector Medeiros",
      "photoUrl": "",
      "userId": "01843101358687313990"
     },
     "user_tz": 180
    },
    "id": "Rq-Shn4ZZEM-",
    "outputId": "d4a50c0e-660f-41a5-c122-bcb75aeb0a7a"
   },
   "outputs": [
    {
     "data": {
      "text/plain": [
       "23.52941176470588"
      ]
     },
     "execution_count": 79,
     "metadata": {
      "tags": []
     },
     "output_type": "execute_result"
    }
   ],
   "source": [
    "#porcentagem de ônibus que estouram os 70 minutos para a integração temporal\n",
    "percentage_gte = gte_70min.size / bus_times.size\n",
    "percentage_gte * 100"
   ]
  },
  {
   "cell_type": "code",
   "execution_count": 100,
   "metadata": {
    "colab": {
     "base_uri": "https://localhost:8080/",
     "height": 371
    },
    "colab_type": "code",
    "executionInfo": {
     "elapsed": 1179,
     "status": "ok",
     "timestamp": 1576680737998,
     "user": {
      "displayName": "Hector Medeiros",
      "photoUrl": "",
      "userId": "01843101358687313990"
     },
     "user_tz": 180
    },
    "id": "R_WdktjTi5me",
    "outputId": "5ccd2d42-1aa1-42c2-f538-c92e050279a5"
   },
   "outputs": [
    {
     "data": {
      "text/plain": [
       "Text(0.5, 1.0, 'Distribuição do tempo de espera maior que 70 minutos')"
      ]
     },
     "execution_count": 100,
     "metadata": {
      "tags": []
     },
     "output_type": "execute_result"
    },
    {
     "data": {
      "image/png": "[encoded data removed]",
      "text/plain": [
       "<Figure size 720x360 with 1 Axes>"
      ]
     },
     "metadata": {
      "tags": []
     },
     "output_type": "display_data"
    }
   ],
   "source": [
    "trips_gte70 = gte_70min.astype('timedelta64[m]').plot.hist(alpha = 0.8, figsize=(10,5),  color=\"orange\")\n",
    "trips_gte70.set_xlabel(\"Tempo em minutos\")\n",
    "trips_gte70.set_ylabel(\"Frequência\")\n",
    "trips_gte70.set_title(\"Distribuição do tempo de espera maior que 70 minutos\")"
   ]
  },
  {
   "cell_type": "code",
   "execution_count": 66,
   "metadata": {
    "colab": {
     "base_uri": "https://localhost:8080/",
     "height": 337
    },
    "colab_type": "code",
    "executionInfo": {
     "elapsed": 1229,
     "status": "ok",
     "timestamp": 1576678581229,
     "user": {
      "displayName": "Hector Medeiros",
      "photoUrl": "",
      "userId": "01843101358687313990"
     },
     "user_tz": 180
    },
    "id": "kPalU0v9oKiV",
    "outputId": "c2b6c026-97e9-4a41-9e14-ee1c3c210734"
   },
   "outputs": [
    {
     "data": {
      "text/plain": [
       "<matplotlib.axes._subplots.AxesSubplot at 0x7fd886eac198>"
      ]
     },
     "execution_count": 66,
     "metadata": {
      "tags": []
     },
     "output_type": "execute_result"
    },
    {
     "data": {
      "image/png": "[encoded data removed]",
      "text/plain": [
       "<Figure size 720x360 with 1 Axes>"
      ]
     },
     "metadata": {
      "tags": []
     },
     "output_type": "display_data"
    }
   ],
   "source": [
    "gte_70min.astype('timedelta64[m]').plot.box(figsize=(10,5))"
   ]
  }
 ],
 "metadata": {
  "colab": {
   "collapsed_sections": [],
   "name": "Copy of data_bus_visualization.ipynb",
   "provenance": [
    {
     "file_id": "1u-Pq5eWBHS1lLonfMii0xuXc1O8QdypJ",
     "timestamp": 1576674874280
    }
   ],
   "toc_visible": true
  },
  "kernelspec": {
   "display_name": "Python 3",
   "language": "python",
   "name": "python3"
  },
  "language_info": {
   "codemirror_mode": {
    "name": "ipython",
    "version": 3
   },
   "file_extension": ".py",
   "mimetype": "text/x-python",
   "name": "python",
   "nbconvert_exporter": "python",
   "pygments_lexer": "ipython3",
   "version": "3.6.7"
  }
 },
 "nbformat": 4,
 "nbformat_minor": 1
}
