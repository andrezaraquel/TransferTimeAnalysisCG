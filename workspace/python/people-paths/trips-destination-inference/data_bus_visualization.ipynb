{
 "cells": [
  {
   "cell_type": "markdown",
   "metadata": {},
   "source": [
    "# TODO\n",
    "\n",
    "* Analisar o casamento dos itinerários no código:\n",
    "    Itinerários com maiores diferenças: 161,248,255\n",
    "    \n",
    "* Validar a saída: investigar porque existe mais de uma linha com horários iguais."
   ]
  },
  {
   "cell_type": "markdown",
   "metadata": {
    "colab_type": "text",
    "id": "iom7DcjMvjvE"
   },
   "source": [
    "# Bus Trips Analysis\n",
    "## Questões\n",
    "1 - Qual a diferença entre o embarque no primeiro e o segundo ? \n",
    "2 - Considerando a baldeação qual a quantidade de viagens em que a diferença entre o primeiro e o segundo ônibus é maior que 70 minutos ?\n",
    "3 - Qual o horário em que as baldeações ultrapassam 70 minutos ?\n",
    "4 - Quais são as provavéis causas para os atrasos ? O período de descanso dos motoristas(intervalo) influencia nos atrasos ? Nos horários de pico existem atrasos ? Nestes mesmos horários a quantidade de ônibus aumenta ?"
   ]
  },
  {
   "cell_type": "markdown",
   "metadata": {
    "colab_type": "text",
    "id": "g8SmZAEYnD_D"
   },
   "source": [
    "Importação de depêndencias"
   ]
  },
  {
   "cell_type": "code",
   "execution_count": 1,
   "metadata": {
    "colab": {},
    "colab_type": "code",
    "id": "HG56hn-GuBTH"
   },
   "outputs": [],
   "source": [
    "import pandas as pd\n",
    "import numpy as np\n",
    "from datetime import datetime\n",
    "import matplotlib.pyplot as plt\n",
    "import pandas_profiling as pp\n",
    "from datetime import datetime, timedelta\n",
    "%matplotlib inline\n",
    "\n",
    "\n",
    "plt.style.use('ggplot')"
   ]
  },
  {
   "cell_type": "markdown",
   "metadata": {
    "colab_type": "text",
    "id": "fGwVLaWHnTVm"
   },
   "source": [
    "Importação de arquivo csv e visualização das principais colunas"
   ]
  },
  {
   "cell_type": "code",
   "execution_count": 4,
   "metadata": {
    "colab": {},
    "colab_type": "code",
    "id": "8dZBLsk8u9Rq"
   },
   "outputs": [],
   "source": [
    "bus_itineraries = pd.read_csv('data/output/output_bulma_otp.csv')"
   ]
  },
  {
   "cell_type": "code",
   "execution_count": 7,
   "metadata": {
    "colab": {
     "base_uri": "https://localhost:8080/",
     "height": 309
    },
    "colab_type": "code",
    "executionInfo": {
     "elapsed": 1175,
     "status": "ok",
     "timestamp": 1576680206739,
     "user": {
      "displayName": "Hector Medeiros",
      "photoUrl": "",
      "userId": "01843101358687313990"
     },
     "user_tz": 180
    },
    "id": "xoRVVDrjvOLK",
    "outputId": "ac96e358-1e1d-4c2e-a127-aa0c04b5be88"
   },
   "outputs": [
    {
     "data": {
      "text/html": [
       "<div>\n",
       "<style scoped>\n",
       "    .dataframe tbody tr th:only-of-type {\n",
       "        vertical-align: middle;\n",
       "    }\n",
       "\n",
       "    .dataframe tbody tr th {\n",
       "        vertical-align: top;\n",
       "    }\n",
       "\n",
       "    .dataframe thead th {\n",
       "        text-align: right;\n",
       "    }\n",
       "</style>\n",
       "<table border=\"1\" class=\"dataframe\">\n",
       "  <thead>\n",
       "    <tr style=\"text-align: right;\">\n",
       "      <th></th>\n",
       "      <th>otp_itinerary_id</th>\n",
       "      <th>otp_leg_id</th>\n",
       "      <th>otp_mode</th>\n",
       "      <th>otp_start_time</th>\n",
       "      <th>otp_end_time</th>\n",
       "      <th>bt_start_time</th>\n",
       "      <th>bt_end_time</th>\n",
       "      <th>bt_duration_mins</th>\n",
       "    </tr>\n",
       "  </thead>\n",
       "  <tbody>\n",
       "    <tr>\n",
       "      <th>0</th>\n",
       "      <td>9</td>\n",
       "      <td>1</td>\n",
       "      <td>WALK</td>\n",
       "      <td>2019-05-13 5:26:45</td>\n",
       "      <td>2019-05-13 5:26:46</td>\n",
       "      <td>2019-05-13 6:29:21</td>\n",
       "      <td>2019-05-13 6:29:21</td>\n",
       "      <td>NaN</td>\n",
       "    </tr>\n",
       "    <tr>\n",
       "      <th>1</th>\n",
       "      <td>9</td>\n",
       "      <td>2</td>\n",
       "      <td>BUS</td>\n",
       "      <td>2019-05-13 5:26:47</td>\n",
       "      <td>2019-05-13 5:55:02</td>\n",
       "      <td>2019-05-13 6:29:21</td>\n",
       "      <td>2019-05-13 7:04:54</td>\n",
       "      <td>3.555000e+03</td>\n",
       "    </tr>\n",
       "    <tr>\n",
       "      <th>2</th>\n",
       "      <td>9</td>\n",
       "      <td>3</td>\n",
       "      <td>WALK</td>\n",
       "      <td>2019-05-13 5:55:02</td>\n",
       "      <td>2019-05-13 5:57:21</td>\n",
       "      <td>2019-05-13 7:04:54</td>\n",
       "      <td>2019-05-13 7:06:54</td>\n",
       "      <td>NaN</td>\n",
       "    </tr>\n",
       "    <tr>\n",
       "      <th>3</th>\n",
       "      <td>9</td>\n",
       "      <td>4</td>\n",
       "      <td>BUS</td>\n",
       "      <td>2019-05-13 6:01:05</td>\n",
       "      <td>2019-05-13 6:08:04</td>\n",
       "      <td>2019-05-13 7:15:28</td>\n",
       "      <td>2019-05-13 7:25:09</td>\n",
       "      <td>9.683330e+15</td>\n",
       "    </tr>\n",
       "    <tr>\n",
       "      <th>4</th>\n",
       "      <td>9</td>\n",
       "      <td>5</td>\n",
       "      <td>WALK</td>\n",
       "      <td>2019-05-13 6:08:05</td>\n",
       "      <td>2019-05-13 6:08:06</td>\n",
       "      <td>2019-05-13 7:25:09</td>\n",
       "      <td>2019-05-13 7:25:09</td>\n",
       "      <td>NaN</td>\n",
       "    </tr>\n",
       "  </tbody>\n",
       "</table>\n",
       "</div>"
      ],
      "text/plain": [
       "   otp_itinerary_id  otp_leg_id otp_mode      otp_start_time  \\\n",
       "0                 9           1     WALK  2019-05-13 5:26:45   \n",
       "1                 9           2      BUS  2019-05-13 5:26:47   \n",
       "2                 9           3     WALK  2019-05-13 5:55:02   \n",
       "3                 9           4      BUS  2019-05-13 6:01:05   \n",
       "4                 9           5     WALK  2019-05-13 6:08:05   \n",
       "\n",
       "         otp_end_time       bt_start_time         bt_end_time  \\\n",
       "0  2019-05-13 5:26:46  2019-05-13 6:29:21  2019-05-13 6:29:21   \n",
       "1  2019-05-13 5:55:02  2019-05-13 6:29:21  2019-05-13 7:04:54   \n",
       "2  2019-05-13 5:57:21  2019-05-13 7:04:54  2019-05-13 7:06:54   \n",
       "3  2019-05-13 6:08:04  2019-05-13 7:15:28  2019-05-13 7:25:09   \n",
       "4  2019-05-13 6:08:06  2019-05-13 7:25:09  2019-05-13 7:25:09   \n",
       "\n",
       "   bt_duration_mins  \n",
       "0               NaN  \n",
       "1      3.555000e+03  \n",
       "2               NaN  \n",
       "3      9.683330e+15  \n",
       "4               NaN  "
      ]
     },
     "execution_count": 7,
     "metadata": {},
     "output_type": "execute_result"
    }
   ],
   "source": [
    "bus_itineraries[['otp_itinerary_id',\"otp_leg_id\",\"otp_mode\", \"otp_start_time\",\"otp_end_time\", \"bt_start_time\",\"bt_end_time\", \"bt_duration_mins\"]].head()"
   ]
  },
  {
   "cell_type": "code",
   "execution_count": 0,
   "metadata": {
    "colab": {},
    "colab_type": "code",
    "id": "f2_cqfk2yKLE"
   },
   "outputs": [],
   "source": [
    "#filtered_sched_obs_start_time = bus_itineraries.sched_obs_start_timediff.dropna()\n",
    "#mean = filtered_sched_obs_start_time.apply(lambda x: np.mean(x))\n",
    "#parsed_sched_obs_start_time = filtered_sched_obs_start_time.apply(lambda x : x/pd.Timedelta('1m'))\n",
    "\n",
    "#filtered_sched_obs_end_time = bus_itineraries.sched_obs_end_timediff.dropna()\n",
    "#mean = filtered_sched_obs_start_time.apply(lambda x: np.mean(x))\n",
    "#parsed_sched_obs_end_time = filtered_sched_obs_end_time.apply(lambda x : x/pd.Timedelta('1m'))\n",
    "\n",
    "#diff_trip_time = parsed_sched_obs_end_time - parsed_sched_obs_start_time\n",
    "\n",
    "#diff_trip_time"
   ]
  },
  {
   "cell_type": "markdown",
   "metadata": {
    "colab_type": "text",
    "id": "d0cdVa92DQ_W"
   },
   "source": [
    "## Duração total da viagem observada"
   ]
  },
  {
   "cell_type": "code",
   "execution_count": 0,
   "metadata": {
    "colab": {},
    "colab_type": "code",
    "id": "38LPZcipj-DU"
   },
   "outputs": [],
   "source": [
    "bt_duration_mins = bus_itineraries.bt_duration_mins.dropna()"
   ]
  },
  {
   "cell_type": "code",
   "execution_count": 108,
   "metadata": {
    "colab": {
     "base_uri": "https://localhost:8080/",
     "height": 173
    },
    "colab_type": "code",
    "executionInfo": {
     "elapsed": 1703,
     "status": "ok",
     "timestamp": 1576681477288,
     "user": {
      "displayName": "Hector Medeiros",
      "photoUrl": "",
      "userId": "01843101358687313990"
     },
     "user_tz": 180
    },
    "id": "6HMPXVcghk1I",
    "outputId": "4b700108-3f3c-4467-eaaf-62c06afb9bd9"
   },
   "outputs": [
    {
     "data": {
      "text/plain": [
       "count    476.000000\n",
       "mean      27.158263\n",
       "std       16.272643\n",
       "min        0.633333\n",
       "25%       11.250000\n",
       "50%       27.583333\n",
       "75%       38.775000\n",
       "max      112.733333\n",
       "Name: bt_duration_mins, dtype: float64"
      ]
     },
     "execution_count": 108,
     "metadata": {
      "tags": []
     },
     "output_type": "execute_result"
    }
   ],
   "source": [
    "bt_duration_mins.describe()"
   ]
  },
  {
   "cell_type": "code",
   "execution_count": 109,
   "metadata": {
    "colab": {
     "base_uri": "https://localhost:8080/",
     "height": 265
    },
    "colab_type": "code",
    "executionInfo": {
     "elapsed": 1686,
     "status": "ok",
     "timestamp": 1576681482603,
     "user": {
      "displayName": "Hector Medeiros",
      "photoUrl": "",
      "userId": "01843101358687313990"
     },
     "user_tz": 180
    },
    "id": "buas1Wj2kxK1",
    "outputId": "425c5215-fb63-49af-8d44-156ee82271e6"
   },
   "outputs": [
    {
     "data": {
      "image/png": "[encoded data removed]",
      "text/plain": [
       "<Figure size 432x288 with 1 Axes>"
      ]
     },
     "metadata": {
      "tags": []
     },
     "output_type": "display_data"
    }
   ],
   "source": [
    "plt.boxplot(bt_duration_mins)\n",
    "plt.show()"
   ]
  },
  {
   "cell_type": "code",
   "execution_count": 110,
   "metadata": {
    "colab": {
     "base_uri": "https://localhost:8080/",
     "height": 317
    },
    "colab_type": "code",
    "executionInfo": {
     "elapsed": 1166,
     "status": "ok",
     "timestamp": 1576681511315,
     "user": {
      "displayName": "Hector Medeiros",
      "photoUrl": "",
      "userId": "01843101358687313990"
     },
     "user_tz": 180
    },
    "id": "Zn71Y_nGlFz-",
    "outputId": "51040876-dbc2-40f6-d689-5308720f4a81"
   },
   "outputs": [
    {
     "data": {
      "image/png": "[encoded data removed]",
      "text/plain": [
       "<Figure size 432x288 with 1 Axes>"
      ]
     },
     "metadata": {
      "tags": []
     },
     "output_type": "display_data"
    },
    {
     "data": {
      "text/plain": [
       "<Figure size 720x360 with 0 Axes>"
      ]
     },
     "metadata": {
      "tags": []
     },
     "output_type": "display_data"
    }
   ],
   "source": [
    "plt.hist(bt_duration_mins)\n",
    "plt.title('Distribuição de viagens unitárias de ônibus')\n",
    "plt.xlabel('Tempo da viagem em minutos')\n",
    "plt.ylabel('Frequência')\n",
    "plt.figure(figsize=(10,5))\n",
    "plt.show()"
   ]
  },
  {
   "cell_type": "code",
   "execution_count": 9,
   "metadata": {
    "colab": {},
    "colab_type": "code",
    "id": "5VFpFN3fsgtU"
   },
   "outputs": [],
   "source": [
    "df = bus_itineraries"
   ]
  },
  {
   "cell_type": "code",
   "execution_count": 10,
   "metadata": {
    "colab": {
     "base_uri": "https://localhost:8080/",
     "height": 35
    },
    "colab_type": "code",
    "executionInfo": {
     "elapsed": 1977,
     "status": "ok",
     "timestamp": 1576678263934,
     "user": {
      "displayName": "Hector Medeiros",
      "photoUrl": "",
      "userId": "01843101358687313990"
     },
     "user_tz": 180
    },
    "id": "atf253W3fLAf",
    "outputId": "f5cbef15-677c-42ce-bfb6-241304befec4"
   },
   "outputs": [
    {
     "data": {
      "text/plain": [
       "20009"
      ]
     },
     "execution_count": 10,
     "metadata": {},
     "output_type": "execute_result"
    }
   ],
   "source": [
    "df.groupby(['otp_user_trip_id']).apply(lambda x: str(x['bt_start_time']))\n",
    "#df.groupby(['otp_user_trip_id']).apply(lambda x: pd.to_datetime(x['bt_start_time']))\n",
    "df.bt_start_time.dtype\n",
    "df.size\n"
   ]
  },
  {
   "cell_type": "code",
   "execution_count": 28,
   "metadata": {},
   "outputs": [
    {
     "data": {
      "text/plain": [
       "Index(['otp_user_trip_id', 'otp_itinerary_id', 'otp_leg_id', 'otp_mode',\n",
       "       'otp_route', 'bt_bus_code', 'bt_trip_num', 'otp_from_stop_id',\n",
       "       'otp_start_time', 'bt_start_time', 'sched_obs_start_timediff',\n",
       "       'otp_to_stop_id', 'otp_end_time', 'bt_end_time',\n",
       "       'sched_obs_end_timediff', 'otp_duration_mins', 'bt_duration_mins'],\n",
       "      dtype='object')"
      ]
     },
     "execution_count": 28,
     "metadata": {},
     "output_type": "execute_result"
    }
   ],
   "source": [
    "df.columns"
   ]
  },
  {
   "cell_type": "code",
   "execution_count": 29,
   "metadata": {},
   "outputs": [
    {
     "data": {
      "text/html": [
       "<div>\n",
       "<style scoped>\n",
       "    .dataframe tbody tr th:only-of-type {\n",
       "        vertical-align: middle;\n",
       "    }\n",
       "\n",
       "    .dataframe tbody tr th {\n",
       "        vertical-align: top;\n",
       "    }\n",
       "\n",
       "    .dataframe thead th {\n",
       "        text-align: right;\n",
       "    }\n",
       "</style>\n",
       "<table border=\"1\" class=\"dataframe\">\n",
       "  <thead>\n",
       "    <tr style=\"text-align: right;\">\n",
       "      <th></th>\n",
       "      <th>otp_itinerary_id</th>\n",
       "      <th>otp_leg_id</th>\n",
       "      <th>otp_mode</th>\n",
       "      <th>otp_start_time</th>\n",
       "      <th>otp_end_time</th>\n",
       "      <th>bt_start_time</th>\n",
       "      <th>bt_end_time</th>\n",
       "      <th>bt_duration_mins</th>\n",
       "      <th>bt_bus_code</th>\n",
       "    </tr>\n",
       "  </thead>\n",
       "  <tbody>\n",
       "    <tr>\n",
       "      <th>0</th>\n",
       "      <td>9</td>\n",
       "      <td>1</td>\n",
       "      <td>WALK</td>\n",
       "      <td>2019-05-13 5:26:45</td>\n",
       "      <td>2019-05-13 5:26:46</td>\n",
       "      <td>2019-05-13 6:29:21</td>\n",
       "      <td>2019-05-13 6:29:21</td>\n",
       "      <td>NaN</td>\n",
       "      <td>NaN</td>\n",
       "    </tr>\n",
       "    <tr>\n",
       "      <th>1</th>\n",
       "      <td>9</td>\n",
       "      <td>2</td>\n",
       "      <td>BUS</td>\n",
       "      <td>2019-05-13 5:26:47</td>\n",
       "      <td>2019-05-13 5:55:02</td>\n",
       "      <td>2019-05-13 6:29:21</td>\n",
       "      <td>2019-05-13 7:04:54</td>\n",
       "      <td>3.555000e+03</td>\n",
       "      <td>1002.0</td>\n",
       "    </tr>\n",
       "    <tr>\n",
       "      <th>2</th>\n",
       "      <td>9</td>\n",
       "      <td>3</td>\n",
       "      <td>WALK</td>\n",
       "      <td>2019-05-13 5:55:02</td>\n",
       "      <td>2019-05-13 5:57:21</td>\n",
       "      <td>2019-05-13 7:04:54</td>\n",
       "      <td>2019-05-13 7:06:54</td>\n",
       "      <td>NaN</td>\n",
       "      <td>NaN</td>\n",
       "    </tr>\n",
       "    <tr>\n",
       "      <th>3</th>\n",
       "      <td>9</td>\n",
       "      <td>4</td>\n",
       "      <td>BUS</td>\n",
       "      <td>2019-05-13 6:01:05</td>\n",
       "      <td>2019-05-13 6:08:04</td>\n",
       "      <td>2019-05-13 7:15:28</td>\n",
       "      <td>2019-05-13 7:25:09</td>\n",
       "      <td>9.683330e+15</td>\n",
       "      <td>1018.0</td>\n",
       "    </tr>\n",
       "    <tr>\n",
       "      <th>4</th>\n",
       "      <td>9</td>\n",
       "      <td>5</td>\n",
       "      <td>WALK</td>\n",
       "      <td>2019-05-13 6:08:05</td>\n",
       "      <td>2019-05-13 6:08:06</td>\n",
       "      <td>2019-05-13 7:25:09</td>\n",
       "      <td>2019-05-13 7:25:09</td>\n",
       "      <td>NaN</td>\n",
       "      <td>NaN</td>\n",
       "    </tr>\n",
       "    <tr>\n",
       "      <th>5</th>\n",
       "      <td>10</td>\n",
       "      <td>1</td>\n",
       "      <td>WALK</td>\n",
       "      <td>2019-05-13 5:26:45</td>\n",
       "      <td>2019-05-13 5:26:46</td>\n",
       "      <td>2019-05-13 6:29:21</td>\n",
       "      <td>2019-05-13 6:29:21</td>\n",
       "      <td>NaN</td>\n",
       "      <td>NaN</td>\n",
       "    </tr>\n",
       "    <tr>\n",
       "      <th>6</th>\n",
       "      <td>10</td>\n",
       "      <td>2</td>\n",
       "      <td>BUS</td>\n",
       "      <td>2019-05-13 5:26:47</td>\n",
       "      <td>2019-05-13 5:55:02</td>\n",
       "      <td>2019-05-13 6:29:21</td>\n",
       "      <td>2019-05-13 7:04:54</td>\n",
       "      <td>3.555000e+03</td>\n",
       "      <td>1002.0</td>\n",
       "    </tr>\n",
       "    <tr>\n",
       "      <th>7</th>\n",
       "      <td>10</td>\n",
       "      <td>3</td>\n",
       "      <td>WALK</td>\n",
       "      <td>2019-05-13 5:55:02</td>\n",
       "      <td>2019-05-13 5:57:21</td>\n",
       "      <td>2019-05-13 7:04:54</td>\n",
       "      <td>2019-05-13 7:06:54</td>\n",
       "      <td>NaN</td>\n",
       "      <td>NaN</td>\n",
       "    </tr>\n",
       "    <tr>\n",
       "      <th>8</th>\n",
       "      <td>10</td>\n",
       "      <td>4</td>\n",
       "      <td>BUS</td>\n",
       "      <td>2019-05-13 6:01:05</td>\n",
       "      <td>2019-05-13 6:08:04</td>\n",
       "      <td>2019-05-13 7:15:28</td>\n",
       "      <td>2019-05-13 7:25:09</td>\n",
       "      <td>9.683330e+15</td>\n",
       "      <td>1018.0</td>\n",
       "    </tr>\n",
       "    <tr>\n",
       "      <th>9</th>\n",
       "      <td>10</td>\n",
       "      <td>5</td>\n",
       "      <td>WALK</td>\n",
       "      <td>2019-05-13 6:08:05</td>\n",
       "      <td>2019-05-13 6:08:06</td>\n",
       "      <td>2019-05-13 7:25:09</td>\n",
       "      <td>2019-05-13 7:25:09</td>\n",
       "      <td>NaN</td>\n",
       "      <td>NaN</td>\n",
       "    </tr>\n",
       "    <tr>\n",
       "      <th>10</th>\n",
       "      <td>13</td>\n",
       "      <td>1</td>\n",
       "      <td>WALK</td>\n",
       "      <td>2019-05-13 5:33:45</td>\n",
       "      <td>2019-05-13 5:33:46</td>\n",
       "      <td>2019-05-13 6:29:21</td>\n",
       "      <td>2019-05-13 6:29:21</td>\n",
       "      <td>NaN</td>\n",
       "      <td>NaN</td>\n",
       "    </tr>\n",
       "    <tr>\n",
       "      <th>11</th>\n",
       "      <td>13</td>\n",
       "      <td>2</td>\n",
       "      <td>BUS</td>\n",
       "      <td>2019-05-13 5:33:47</td>\n",
       "      <td>2019-05-13 6:02:02</td>\n",
       "      <td>2019-05-13 6:29:21</td>\n",
       "      <td>2019-05-13 7:04:54</td>\n",
       "      <td>3.555000e+03</td>\n",
       "      <td>1002.0</td>\n",
       "    </tr>\n",
       "    <tr>\n",
       "      <th>12</th>\n",
       "      <td>13</td>\n",
       "      <td>3</td>\n",
       "      <td>WALK</td>\n",
       "      <td>2019-05-13 6:02:02</td>\n",
       "      <td>2019-05-13 6:02:17</td>\n",
       "      <td>2019-05-13 7:04:54</td>\n",
       "      <td>2019-05-13 7:04:54</td>\n",
       "      <td>NaN</td>\n",
       "      <td>NaN</td>\n",
       "    </tr>\n",
       "    <tr>\n",
       "      <th>13</th>\n",
       "      <td>13</td>\n",
       "      <td>4</td>\n",
       "      <td>BUS</td>\n",
       "      <td>2019-05-13 6:04:13</td>\n",
       "      <td>2019-05-13 6:19:34</td>\n",
       "      <td>2019-05-13 7:24:32</td>\n",
       "      <td>2019-05-13 7:45:26</td>\n",
       "      <td>2.090000e+01</td>\n",
       "      <td>1100.0</td>\n",
       "    </tr>\n",
       "    <tr>\n",
       "      <th>14</th>\n",
       "      <td>13</td>\n",
       "      <td>5</td>\n",
       "      <td>WALK</td>\n",
       "      <td>2019-05-13 6:19:35</td>\n",
       "      <td>2019-05-13 6:19:36</td>\n",
       "      <td>2019-05-13 7:45:26</td>\n",
       "      <td>2019-05-13 7:45:26</td>\n",
       "      <td>NaN</td>\n",
       "      <td>NaN</td>\n",
       "    </tr>\n",
       "    <tr>\n",
       "      <th>15</th>\n",
       "      <td>14</td>\n",
       "      <td>1</td>\n",
       "      <td>WALK</td>\n",
       "      <td>2019-05-13 5:38:45</td>\n",
       "      <td>2019-05-13 5:38:46</td>\n",
       "      <td>2019-05-13 6:29:21</td>\n",
       "      <td>2019-05-13 6:29:21</td>\n",
       "      <td>NaN</td>\n",
       "      <td>NaN</td>\n",
       "    </tr>\n",
       "    <tr>\n",
       "      <th>16</th>\n",
       "      <td>14</td>\n",
       "      <td>2</td>\n",
       "      <td>BUS</td>\n",
       "      <td>2019-05-13 5:38:47</td>\n",
       "      <td>2019-05-13 6:08:31</td>\n",
       "      <td>2019-05-13 6:29:21</td>\n",
       "      <td>2019-05-13 7:11:02</td>\n",
       "      <td>4.168330e+15</td>\n",
       "      <td>1002.0</td>\n",
       "    </tr>\n",
       "    <tr>\n",
       "      <th>17</th>\n",
       "      <td>14</td>\n",
       "      <td>3</td>\n",
       "      <td>WALK</td>\n",
       "      <td>2019-05-13 6:08:31</td>\n",
       "      <td>2019-05-13 6:10:52</td>\n",
       "      <td>2019-05-13 7:11:02</td>\n",
       "      <td>2019-05-13 7:13:02</td>\n",
       "      <td>NaN</td>\n",
       "      <td>NaN</td>\n",
       "    </tr>\n",
       "    <tr>\n",
       "      <th>18</th>\n",
       "      <td>14</td>\n",
       "      <td>4</td>\n",
       "      <td>BUS</td>\n",
       "      <td>2019-05-13 6:12:02</td>\n",
       "      <td>2019-05-13 6:21:40</td>\n",
       "      <td>2019-05-13 7:23:28</td>\n",
       "      <td>2019-05-13 7:51:03</td>\n",
       "      <td>2.758330e+16</td>\n",
       "      <td>1092.0</td>\n",
       "    </tr>\n",
       "    <tr>\n",
       "      <th>19</th>\n",
       "      <td>14</td>\n",
       "      <td>5</td>\n",
       "      <td>WALK</td>\n",
       "      <td>2019-05-13 6:21:41</td>\n",
       "      <td>2019-05-13 6:21:42</td>\n",
       "      <td>2019-05-13 7:51:03</td>\n",
       "      <td>2019-05-13 7:51:03</td>\n",
       "      <td>NaN</td>\n",
       "      <td>NaN</td>\n",
       "    </tr>\n",
       "    <tr>\n",
       "      <th>20</th>\n",
       "      <td>15</td>\n",
       "      <td>1</td>\n",
       "      <td>WALK</td>\n",
       "      <td>2019-05-13 5:38:45</td>\n",
       "      <td>2019-05-13 5:38:46</td>\n",
       "      <td>2019-05-13 6:29:21</td>\n",
       "      <td>2019-05-13 6:29:21</td>\n",
       "      <td>NaN</td>\n",
       "      <td>NaN</td>\n",
       "    </tr>\n",
       "    <tr>\n",
       "      <th>21</th>\n",
       "      <td>15</td>\n",
       "      <td>2</td>\n",
       "      <td>BUS</td>\n",
       "      <td>2019-05-13 5:38:47</td>\n",
       "      <td>2019-05-13 6:08:31</td>\n",
       "      <td>2019-05-13 6:29:21</td>\n",
       "      <td>2019-05-13 7:11:02</td>\n",
       "      <td>4.168330e+15</td>\n",
       "      <td>1002.0</td>\n",
       "    </tr>\n",
       "    <tr>\n",
       "      <th>22</th>\n",
       "      <td>15</td>\n",
       "      <td>3</td>\n",
       "      <td>WALK</td>\n",
       "      <td>2019-05-13 6:08:31</td>\n",
       "      <td>2019-05-13 6:10:52</td>\n",
       "      <td>2019-05-13 7:11:02</td>\n",
       "      <td>2019-05-13 7:13:02</td>\n",
       "      <td>NaN</td>\n",
       "      <td>NaN</td>\n",
       "    </tr>\n",
       "    <tr>\n",
       "      <th>23</th>\n",
       "      <td>15</td>\n",
       "      <td>4</td>\n",
       "      <td>BUS</td>\n",
       "      <td>2019-05-13 6:12:02</td>\n",
       "      <td>2019-05-13 6:21:40</td>\n",
       "      <td>2019-05-13 7:23:28</td>\n",
       "      <td>2019-05-13 7:51:03</td>\n",
       "      <td>2.758330e+16</td>\n",
       "      <td>1092.0</td>\n",
       "    </tr>\n",
       "    <tr>\n",
       "      <th>24</th>\n",
       "      <td>15</td>\n",
       "      <td>5</td>\n",
       "      <td>WALK</td>\n",
       "      <td>2019-05-13 6:21:41</td>\n",
       "      <td>2019-05-13 6:21:42</td>\n",
       "      <td>2019-05-13 7:51:03</td>\n",
       "      <td>2019-05-13 7:51:03</td>\n",
       "      <td>NaN</td>\n",
       "      <td>NaN</td>\n",
       "    </tr>\n",
       "    <tr>\n",
       "      <th>25</th>\n",
       "      <td>16</td>\n",
       "      <td>1</td>\n",
       "      <td>WALK</td>\n",
       "      <td>2019-05-13 5:38:45</td>\n",
       "      <td>2019-05-13 5:38:46</td>\n",
       "      <td>2019-05-13 6:29:21</td>\n",
       "      <td>2019-05-13 6:29:21</td>\n",
       "      <td>NaN</td>\n",
       "      <td>NaN</td>\n",
       "    </tr>\n",
       "    <tr>\n",
       "      <th>26</th>\n",
       "      <td>16</td>\n",
       "      <td>2</td>\n",
       "      <td>BUS</td>\n",
       "      <td>2019-05-13 5:38:47</td>\n",
       "      <td>2019-05-13 6:08:31</td>\n",
       "      <td>2019-05-13 6:29:21</td>\n",
       "      <td>2019-05-13 7:11:02</td>\n",
       "      <td>4.168330e+15</td>\n",
       "      <td>1002.0</td>\n",
       "    </tr>\n",
       "    <tr>\n",
       "      <th>27</th>\n",
       "      <td>16</td>\n",
       "      <td>3</td>\n",
       "      <td>WALK</td>\n",
       "      <td>2019-05-13 6:08:31</td>\n",
       "      <td>2019-05-13 6:10:52</td>\n",
       "      <td>2019-05-13 7:11:02</td>\n",
       "      <td>2019-05-13 7:13:02</td>\n",
       "      <td>NaN</td>\n",
       "      <td>NaN</td>\n",
       "    </tr>\n",
       "    <tr>\n",
       "      <th>28</th>\n",
       "      <td>16</td>\n",
       "      <td>4</td>\n",
       "      <td>BUS</td>\n",
       "      <td>2019-05-13 6:12:02</td>\n",
       "      <td>2019-05-13 6:21:40</td>\n",
       "      <td>2019-05-13 7:23:28</td>\n",
       "      <td>2019-05-13 7:51:03</td>\n",
       "      <td>2.758330e+16</td>\n",
       "      <td>1092.0</td>\n",
       "    </tr>\n",
       "    <tr>\n",
       "      <th>29</th>\n",
       "      <td>16</td>\n",
       "      <td>5</td>\n",
       "      <td>WALK</td>\n",
       "      <td>2019-05-13 6:21:41</td>\n",
       "      <td>2019-05-13 6:21:42</td>\n",
       "      <td>2019-05-13 7:51:03</td>\n",
       "      <td>2019-05-13 7:51:03</td>\n",
       "      <td>NaN</td>\n",
       "      <td>NaN</td>\n",
       "    </tr>\n",
       "    <tr>\n",
       "      <th>30</th>\n",
       "      <td>17</td>\n",
       "      <td>1</td>\n",
       "      <td>WALK</td>\n",
       "      <td>2019-05-13 5:38:45</td>\n",
       "      <td>2019-05-13 5:38:46</td>\n",
       "      <td>2019-05-13 6:29:21</td>\n",
       "      <td>2019-05-13 6:29:21</td>\n",
       "      <td>NaN</td>\n",
       "      <td>NaN</td>\n",
       "    </tr>\n",
       "    <tr>\n",
       "      <th>31</th>\n",
       "      <td>17</td>\n",
       "      <td>2</td>\n",
       "      <td>BUS</td>\n",
       "      <td>2019-05-13 5:38:47</td>\n",
       "      <td>2019-05-13 6:08:31</td>\n",
       "      <td>2019-05-13 6:29:21</td>\n",
       "      <td>2019-05-13 7:11:02</td>\n",
       "      <td>4.168330e+15</td>\n",
       "      <td>1002.0</td>\n",
       "    </tr>\n",
       "    <tr>\n",
       "      <th>32</th>\n",
       "      <td>17</td>\n",
       "      <td>3</td>\n",
       "      <td>WALK</td>\n",
       "      <td>2019-05-13 6:08:31</td>\n",
       "      <td>2019-05-13 6:10:52</td>\n",
       "      <td>2019-05-13 7:11:02</td>\n",
       "      <td>2019-05-13 7:13:02</td>\n",
       "      <td>NaN</td>\n",
       "      <td>NaN</td>\n",
       "    </tr>\n",
       "    <tr>\n",
       "      <th>33</th>\n",
       "      <td>17</td>\n",
       "      <td>4</td>\n",
       "      <td>BUS</td>\n",
       "      <td>2019-05-13 6:12:02</td>\n",
       "      <td>2019-05-13 6:21:40</td>\n",
       "      <td>2019-05-13 7:23:28</td>\n",
       "      <td>2019-05-13 7:51:03</td>\n",
       "      <td>2.758330e+16</td>\n",
       "      <td>1092.0</td>\n",
       "    </tr>\n",
       "    <tr>\n",
       "      <th>34</th>\n",
       "      <td>17</td>\n",
       "      <td>5</td>\n",
       "      <td>WALK</td>\n",
       "      <td>2019-05-13 6:21:41</td>\n",
       "      <td>2019-05-13 6:21:42</td>\n",
       "      <td>2019-05-13 7:51:03</td>\n",
       "      <td>2019-05-13 7:51:03</td>\n",
       "      <td>NaN</td>\n",
       "      <td>NaN</td>\n",
       "    </tr>\n",
       "    <tr>\n",
       "      <th>35</th>\n",
       "      <td>18</td>\n",
       "      <td>1</td>\n",
       "      <td>WALK</td>\n",
       "      <td>2019-05-13 5:43:45</td>\n",
       "      <td>2019-05-13 5:43:46</td>\n",
       "      <td>2019-05-13 6:29:21</td>\n",
       "      <td>2019-05-13 6:29:21</td>\n",
       "      <td>NaN</td>\n",
       "      <td>NaN</td>\n",
       "    </tr>\n",
       "    <tr>\n",
       "      <th>36</th>\n",
       "      <td>18</td>\n",
       "      <td>2</td>\n",
       "      <td>BUS</td>\n",
       "      <td>2019-05-13 5:43:47</td>\n",
       "      <td>2019-05-13 6:13:31</td>\n",
       "      <td>2019-05-13 6:29:21</td>\n",
       "      <td>2019-05-13 7:11:02</td>\n",
       "      <td>4.168330e+15</td>\n",
       "      <td>1002.0</td>\n",
       "    </tr>\n",
       "    <tr>\n",
       "      <th>37</th>\n",
       "      <td>18</td>\n",
       "      <td>3</td>\n",
       "      <td>WALK</td>\n",
       "      <td>2019-05-13 6:13:31</td>\n",
       "      <td>2019-05-13 6:17:06</td>\n",
       "      <td>2019-05-13 7:11:02</td>\n",
       "      <td>2019-05-13 7:15:02</td>\n",
       "      <td>NaN</td>\n",
       "      <td>NaN</td>\n",
       "    </tr>\n",
       "    <tr>\n",
       "      <th>38</th>\n",
       "      <td>18</td>\n",
       "      <td>4</td>\n",
       "      <td>BUS</td>\n",
       "      <td>2019-05-13 6:17:40</td>\n",
       "      <td>2019-05-13 6:26:33</td>\n",
       "      <td>2019-05-13 7:27:42</td>\n",
       "      <td>2019-05-13 7:35:50</td>\n",
       "      <td>8.133330e+15</td>\n",
       "      <td>1016.0</td>\n",
       "    </tr>\n",
       "    <tr>\n",
       "      <th>39</th>\n",
       "      <td>18</td>\n",
       "      <td>5</td>\n",
       "      <td>WALK</td>\n",
       "      <td>2019-05-13 6:26:34</td>\n",
       "      <td>2019-05-13 6:26:35</td>\n",
       "      <td>2019-05-13 7:35:50</td>\n",
       "      <td>2019-05-13 7:35:50</td>\n",
       "      <td>NaN</td>\n",
       "      <td>NaN</td>\n",
       "    </tr>\n",
       "  </tbody>\n",
       "</table>\n",
       "</div>"
      ],
      "text/plain": [
       "    otp_itinerary_id  otp_leg_id otp_mode      otp_start_time  \\\n",
       "0                  9           1     WALK  2019-05-13 5:26:45   \n",
       "1                  9           2      BUS  2019-05-13 5:26:47   \n",
       "2                  9           3     WALK  2019-05-13 5:55:02   \n",
       "3                  9           4      BUS  2019-05-13 6:01:05   \n",
       "4                  9           5     WALK  2019-05-13 6:08:05   \n",
       "5                 10           1     WALK  2019-05-13 5:26:45   \n",
       "6                 10           2      BUS  2019-05-13 5:26:47   \n",
       "7                 10           3     WALK  2019-05-13 5:55:02   \n",
       "8                 10           4      BUS  2019-05-13 6:01:05   \n",
       "9                 10           5     WALK  2019-05-13 6:08:05   \n",
       "10                13           1     WALK  2019-05-13 5:33:45   \n",
       "11                13           2      BUS  2019-05-13 5:33:47   \n",
       "12                13           3     WALK  2019-05-13 6:02:02   \n",
       "13                13           4      BUS  2019-05-13 6:04:13   \n",
       "14                13           5     WALK  2019-05-13 6:19:35   \n",
       "15                14           1     WALK  2019-05-13 5:38:45   \n",
       "16                14           2      BUS  2019-05-13 5:38:47   \n",
       "17                14           3     WALK  2019-05-13 6:08:31   \n",
       "18                14           4      BUS  2019-05-13 6:12:02   \n",
       "19                14           5     WALK  2019-05-13 6:21:41   \n",
       "20                15           1     WALK  2019-05-13 5:38:45   \n",
       "21                15           2      BUS  2019-05-13 5:38:47   \n",
       "22                15           3     WALK  2019-05-13 6:08:31   \n",
       "23                15           4      BUS  2019-05-13 6:12:02   \n",
       "24                15           5     WALK  2019-05-13 6:21:41   \n",
       "25                16           1     WALK  2019-05-13 5:38:45   \n",
       "26                16           2      BUS  2019-05-13 5:38:47   \n",
       "27                16           3     WALK  2019-05-13 6:08:31   \n",
       "28                16           4      BUS  2019-05-13 6:12:02   \n",
       "29                16           5     WALK  2019-05-13 6:21:41   \n",
       "30                17           1     WALK  2019-05-13 5:38:45   \n",
       "31                17           2      BUS  2019-05-13 5:38:47   \n",
       "32                17           3     WALK  2019-05-13 6:08:31   \n",
       "33                17           4      BUS  2019-05-13 6:12:02   \n",
       "34                17           5     WALK  2019-05-13 6:21:41   \n",
       "35                18           1     WALK  2019-05-13 5:43:45   \n",
       "36                18           2      BUS  2019-05-13 5:43:47   \n",
       "37                18           3     WALK  2019-05-13 6:13:31   \n",
       "38                18           4      BUS  2019-05-13 6:17:40   \n",
       "39                18           5     WALK  2019-05-13 6:26:34   \n",
       "\n",
       "          otp_end_time       bt_start_time         bt_end_time  \\\n",
       "0   2019-05-13 5:26:46  2019-05-13 6:29:21  2019-05-13 6:29:21   \n",
       "1   2019-05-13 5:55:02  2019-05-13 6:29:21  2019-05-13 7:04:54   \n",
       "2   2019-05-13 5:57:21  2019-05-13 7:04:54  2019-05-13 7:06:54   \n",
       "3   2019-05-13 6:08:04  2019-05-13 7:15:28  2019-05-13 7:25:09   \n",
       "4   2019-05-13 6:08:06  2019-05-13 7:25:09  2019-05-13 7:25:09   \n",
       "5   2019-05-13 5:26:46  2019-05-13 6:29:21  2019-05-13 6:29:21   \n",
       "6   2019-05-13 5:55:02  2019-05-13 6:29:21  2019-05-13 7:04:54   \n",
       "7   2019-05-13 5:57:21  2019-05-13 7:04:54  2019-05-13 7:06:54   \n",
       "8   2019-05-13 6:08:04  2019-05-13 7:15:28  2019-05-13 7:25:09   \n",
       "9   2019-05-13 6:08:06  2019-05-13 7:25:09  2019-05-13 7:25:09   \n",
       "10  2019-05-13 5:33:46  2019-05-13 6:29:21  2019-05-13 6:29:21   \n",
       "11  2019-05-13 6:02:02  2019-05-13 6:29:21  2019-05-13 7:04:54   \n",
       "12  2019-05-13 6:02:17  2019-05-13 7:04:54  2019-05-13 7:04:54   \n",
       "13  2019-05-13 6:19:34  2019-05-13 7:24:32  2019-05-13 7:45:26   \n",
       "14  2019-05-13 6:19:36  2019-05-13 7:45:26  2019-05-13 7:45:26   \n",
       "15  2019-05-13 5:38:46  2019-05-13 6:29:21  2019-05-13 6:29:21   \n",
       "16  2019-05-13 6:08:31  2019-05-13 6:29:21  2019-05-13 7:11:02   \n",
       "17  2019-05-13 6:10:52  2019-05-13 7:11:02  2019-05-13 7:13:02   \n",
       "18  2019-05-13 6:21:40  2019-05-13 7:23:28  2019-05-13 7:51:03   \n",
       "19  2019-05-13 6:21:42  2019-05-13 7:51:03  2019-05-13 7:51:03   \n",
       "20  2019-05-13 5:38:46  2019-05-13 6:29:21  2019-05-13 6:29:21   \n",
       "21  2019-05-13 6:08:31  2019-05-13 6:29:21  2019-05-13 7:11:02   \n",
       "22  2019-05-13 6:10:52  2019-05-13 7:11:02  2019-05-13 7:13:02   \n",
       "23  2019-05-13 6:21:40  2019-05-13 7:23:28  2019-05-13 7:51:03   \n",
       "24  2019-05-13 6:21:42  2019-05-13 7:51:03  2019-05-13 7:51:03   \n",
       "25  2019-05-13 5:38:46  2019-05-13 6:29:21  2019-05-13 6:29:21   \n",
       "26  2019-05-13 6:08:31  2019-05-13 6:29:21  2019-05-13 7:11:02   \n",
       "27  2019-05-13 6:10:52  2019-05-13 7:11:02  2019-05-13 7:13:02   \n",
       "28  2019-05-13 6:21:40  2019-05-13 7:23:28  2019-05-13 7:51:03   \n",
       "29  2019-05-13 6:21:42  2019-05-13 7:51:03  2019-05-13 7:51:03   \n",
       "30  2019-05-13 5:38:46  2019-05-13 6:29:21  2019-05-13 6:29:21   \n",
       "31  2019-05-13 6:08:31  2019-05-13 6:29:21  2019-05-13 7:11:02   \n",
       "32  2019-05-13 6:10:52  2019-05-13 7:11:02  2019-05-13 7:13:02   \n",
       "33  2019-05-13 6:21:40  2019-05-13 7:23:28  2019-05-13 7:51:03   \n",
       "34  2019-05-13 6:21:42  2019-05-13 7:51:03  2019-05-13 7:51:03   \n",
       "35  2019-05-13 5:43:46  2019-05-13 6:29:21  2019-05-13 6:29:21   \n",
       "36  2019-05-13 6:13:31  2019-05-13 6:29:21  2019-05-13 7:11:02   \n",
       "37  2019-05-13 6:17:06  2019-05-13 7:11:02  2019-05-13 7:15:02   \n",
       "38  2019-05-13 6:26:33  2019-05-13 7:27:42  2019-05-13 7:35:50   \n",
       "39  2019-05-13 6:26:35  2019-05-13 7:35:50  2019-05-13 7:35:50   \n",
       "\n",
       "    bt_duration_mins  bt_bus_code  \n",
       "0                NaN          NaN  \n",
       "1       3.555000e+03       1002.0  \n",
       "2                NaN          NaN  \n",
       "3       9.683330e+15       1018.0  \n",
       "4                NaN          NaN  \n",
       "5                NaN          NaN  \n",
       "6       3.555000e+03       1002.0  \n",
       "7                NaN          NaN  \n",
       "8       9.683330e+15       1018.0  \n",
       "9                NaN          NaN  \n",
       "10               NaN          NaN  \n",
       "11      3.555000e+03       1002.0  \n",
       "12               NaN          NaN  \n",
       "13      2.090000e+01       1100.0  \n",
       "14               NaN          NaN  \n",
       "15               NaN          NaN  \n",
       "16      4.168330e+15       1002.0  \n",
       "17               NaN          NaN  \n",
       "18      2.758330e+16       1092.0  \n",
       "19               NaN          NaN  \n",
       "20               NaN          NaN  \n",
       "21      4.168330e+15       1002.0  \n",
       "22               NaN          NaN  \n",
       "23      2.758330e+16       1092.0  \n",
       "24               NaN          NaN  \n",
       "25               NaN          NaN  \n",
       "26      4.168330e+15       1002.0  \n",
       "27               NaN          NaN  \n",
       "28      2.758330e+16       1092.0  \n",
       "29               NaN          NaN  \n",
       "30               NaN          NaN  \n",
       "31      4.168330e+15       1002.0  \n",
       "32               NaN          NaN  \n",
       "33      2.758330e+16       1092.0  \n",
       "34               NaN          NaN  \n",
       "35               NaN          NaN  \n",
       "36      4.168330e+15       1002.0  \n",
       "37               NaN          NaN  \n",
       "38      8.133330e+15       1016.0  \n",
       "39               NaN          NaN  "
      ]
     },
     "execution_count": 29,
     "metadata": {},
     "output_type": "execute_result"
    }
   ],
   "source": [
    "bus_itineraries[['otp_itinerary_id',\"otp_leg_id\",\"otp_mode\", \"otp_start_time\",\"otp_end_time\", \"bt_start_time\",\"bt_end_time\", \n",
    "                 \"bt_duration_mins\", \"bt_bus_code\"]].head(40)"
   ]
  },
  {
   "cell_type": "markdown",
   "metadata": {
    "colab_type": "text",
    "id": "D-ksxg6erJch"
   },
   "source": [
    "###Encontrando tempo total de um itinerário"
   ]
  },
  {
   "cell_type": "code",
   "execution_count": 51,
   "metadata": {
    "colab": {},
    "colab_type": "code",
    "id": "5s_9xQzM8rKh"
   },
   "outputs": [
    {
     "name": "stdout",
     "output_type": "stream",
     "text": [
      "161\n",
      "248\n",
      "255\n"
     ]
    }
   ],
   "source": [
    "itinerary_id = df.otp_itinerary_id.iloc[0] #recuperando ID da primeira linha\n",
    "#gerar index out bounds\n",
    "times = []\n",
    "start_time_first_bus = []\n",
    "start_time_second_bus = []\n",
    "\n",
    "for i in range(len(df)-2):\n",
    "    row = df.iloc[i]\n",
    "    \n",
    "    # considerando somente a primeira leg par de cada itinerário para cálculo do tempo de 'baldeação'\n",
    "    if (row.otp_leg_id % 2 == 0 and row.otp_itinerary_id == itinerary_id \n",
    "        and df.otp_itinerary_id.iloc[i+2] == itinerary_id):\n",
    "            \n",
    "            times.append( pd.to_datetime(df.bt_start_time.iloc[i+2]) -  pd.to_datetime(df.bt_start_time.iloc[i]))\n",
    "            start_time_first_bus.append(df.bt_start_time.iloc[i])\n",
    "            start_time_second_bus.append(df.bt_start_time.iloc[i+2])\n",
    "            \n",
    "            #imprime os itinerários com maiores horários de \"baldeação\"\n",
    "            if (pd.to_datetime(df.bt_start_time.iloc[i+2]) -  pd.to_datetime(df.bt_start_time.iloc[i]) > timedelta(minutes=150)):\n",
    "                print(row.otp_itinerary_id)\n",
    "                \n",
    "            \n",
    "    itinerary_id = row.otp_itinerary_id\n"
   ]
  },
  {
   "cell_type": "code",
   "execution_count": 23,
   "metadata": {},
   "outputs": [
    {
     "data": {
      "text/plain": [
       "[Timedelta('0 days 00:46:07'),\n",
       " Timedelta('0 days 00:46:07'),\n",
       " Timedelta('0 days 00:55:11'),\n",
       " Timedelta('0 days 00:54:07'),\n",
       " Timedelta('0 days 00:54:07'),\n",
       " Timedelta('0 days 00:54:07'),\n",
       " Timedelta('0 days 00:54:07'),\n",
       " Timedelta('0 days 00:58:21'),\n",
       " Timedelta('0 days 00:46:07'),\n",
       " Timedelta('0 days 00:54:07'),\n",
       " Timedelta('0 days 00:54:07'),\n",
       " Timedelta('0 days 00:58:21'),\n",
       " Timedelta('0 days 00:46:07'),\n",
       " Timedelta('0 days 00:46:07'),\n",
       " Timedelta('0 days 00:46:07'),\n",
       " Timedelta('0 days 00:46:07'),\n",
       " Timedelta('0 days 01:37:45'),\n",
       " Timedelta('0 days 00:54:07'),\n",
       " Timedelta('0 days 00:46:07'),\n",
       " Timedelta('0 days 00:46:07'),\n",
       " Timedelta('0 days 00:46:07'),\n",
       " Timedelta('0 days 00:46:07'),\n",
       " Timedelta('0 days 00:46:07'),\n",
       " Timedelta('0 days 00:58:21'),\n",
       " Timedelta('0 days 00:46:07'),\n",
       " Timedelta('0 days 00:54:07'),\n",
       " Timedelta('0 days 00:54:07'),\n",
       " Timedelta('0 days 00:54:07'),\n",
       " Timedelta('0 days 00:54:07'),\n",
       " Timedelta('0 days 00:55:11'),\n",
       " Timedelta('0 days 00:54:07'),\n",
       " Timedelta('0 days 00:46:07'),\n",
       " Timedelta('0 days 00:46:07'),\n",
       " Timedelta('0 days 00:46:07'),\n",
       " Timedelta('0 days 00:46:07'),\n",
       " Timedelta('0 days 00:46:07'),\n",
       " Timedelta('0 days 02:01:38'),\n",
       " Timedelta('0 days 02:01:38'),\n",
       " Timedelta('0 days 00:46:07'),\n",
       " Timedelta('0 days 01:37:45'),\n",
       " Timedelta('0 days 00:54:07'),\n",
       " Timedelta('0 days 00:46:07'),\n",
       " Timedelta('0 days 02:01:38'),\n",
       " Timedelta('0 days 00:54:07'),\n",
       " Timedelta('0 days 00:58:21'),\n",
       " Timedelta('0 days 00:58:21'),\n",
       " Timedelta('0 days 01:19:09'),\n",
       " Timedelta('0 days 01:43:02'),\n",
       " Timedelta('0 days 00:43:38'),\n",
       " Timedelta('0 days 00:43:38'),\n",
       " Timedelta('0 days 00:43:38'),\n",
       " Timedelta('0 days 00:43:38'),\n",
       " Timedelta('0 days 00:48:15'),\n",
       " Timedelta('0 days 00:59:49'),\n",
       " Timedelta('0 days 00:51:47'),\n",
       " Timedelta('0 days 00:51:47'),\n",
       " Timedelta('0 days 00:51:47'),\n",
       " Timedelta('0 days 00:51:47'),\n",
       " Timedelta('0 days 01:03:12'),\n",
       " Timedelta('0 days 00:42:45'),\n",
       " Timedelta('0 days 00:42:45'),\n",
       " Timedelta('0 days 00:44:06'),\n",
       " Timedelta('0 days 01:02:42'),\n",
       " Timedelta('0 days 00:42:45'),\n",
       " Timedelta('0 days 00:42:45'),\n",
       " Timedelta('0 days 00:42:47'),\n",
       " Timedelta('0 days 00:42:47'),\n",
       " Timedelta('0 days 00:54:11'),\n",
       " Timedelta('0 days 00:54:11'),\n",
       " Timedelta('0 days 00:54:11'),\n",
       " Timedelta('0 days 00:54:11'),\n",
       " Timedelta('0 days 01:37:40'),\n",
       " Timedelta('0 days 01:49:11'),\n",
       " Timedelta('0 days 02:10:46'),\n",
       " Timedelta('0 days 02:10:46'),\n",
       " Timedelta('0 days 02:10:46'),\n",
       " Timedelta('0 days 02:10:46'),\n",
       " Timedelta('0 days 00:49:16'),\n",
       " Timedelta('0 days 00:49:16'),\n",
       " Timedelta('0 days 00:49:16'),\n",
       " Timedelta('0 days 00:49:16'),\n",
       " Timedelta('0 days 00:52:27'),\n",
       " Timedelta('0 days 00:52:27'),\n",
       " Timedelta('0 days 00:51:18'),\n",
       " Timedelta('0 days 00:52:27'),\n",
       " Timedelta('0 days 00:53:55'),\n",
       " Timedelta('0 days 01:00:03'),\n",
       " Timedelta('0 days 00:47:30'),\n",
       " Timedelta('0 days 00:47:30'),\n",
       " Timedelta('0 days 00:47:30'),\n",
       " Timedelta('0 days 00:47:30'),\n",
       " Timedelta('0 days 00:47:30'),\n",
       " Timedelta('0 days 00:47:24'),\n",
       " Timedelta('0 days 00:56:19'),\n",
       " Timedelta('0 days 00:56:19'),\n",
       " Timedelta('0 days 01:14:08'),\n",
       " Timedelta('0 days 00:56:19'),\n",
       " Timedelta('0 days 00:56:19'),\n",
       " Timedelta('0 days 00:56:19'),\n",
       " Timedelta('0 days 00:56:19'),\n",
       " Timedelta('0 days 02:52:56'),\n",
       " Timedelta('0 days 01:14:08'),\n",
       " Timedelta('0 days 01:09:55'),\n",
       " Timedelta('0 days 01:09:55'),\n",
       " Timedelta('0 days 01:09:55'),\n",
       " Timedelta('0 days 01:09:55'),\n",
       " Timedelta('0 days 01:09:54'),\n",
       " Timedelta('0 days 00:50:45'),\n",
       " Timedelta('0 days 01:20:27'),\n",
       " Timedelta('0 days 01:20:27'),\n",
       " Timedelta('0 days 01:20:27'),\n",
       " Timedelta('0 days 01:20:27'),\n",
       " Timedelta('0 days 01:09:53'),\n",
       " Timedelta('0 days 01:09:54'),\n",
       " Timedelta('0 days 01:09:54'),\n",
       " Timedelta('0 days 01:09:54'),\n",
       " Timedelta('0 days 01:09:54'),\n",
       " Timedelta('0 days 01:09:54'),\n",
       " Timedelta('0 days 00:45:21'),\n",
       " Timedelta('0 days 00:39:56'),\n",
       " Timedelta('0 days 00:39:56'),\n",
       " Timedelta('0 days 00:39:56'),\n",
       " Timedelta('0 days 00:39:56'),\n",
       " Timedelta('0 days 00:45:21'),\n",
       " Timedelta('0 days 01:36:15'),\n",
       " Timedelta('0 days 01:36:15'),\n",
       " Timedelta('0 days 00:39:56'),\n",
       " Timedelta('0 days 01:05:37'),\n",
       " Timedelta('0 days 01:05:37'),\n",
       " Timedelta('0 days 01:22:56'),\n",
       " Timedelta('0 days 01:22:56'),\n",
       " Timedelta('0 days 01:22:56'),\n",
       " Timedelta('0 days 00:34:21'),\n",
       " Timedelta('0 days 00:51:16'),\n",
       " Timedelta('0 days 00:55:41'),\n",
       " Timedelta('0 days 00:43:17'),\n",
       " Timedelta('0 days 00:48:18'),\n",
       " Timedelta('0 days 01:07:24'),\n",
       " Timedelta('0 days 01:07:24'),\n",
       " Timedelta('0 days 01:07:24'),\n",
       " Timedelta('0 days 01:07:24'),\n",
       " Timedelta('0 days 00:54:41'),\n",
       " Timedelta('0 days 00:42:50'),\n",
       " Timedelta('0 days 00:42:50'),\n",
       " Timedelta('0 days 00:42:50'),\n",
       " Timedelta('0 days 00:42:50'),\n",
       " Timedelta('0 days 01:06:08'),\n",
       " Timedelta('0 days 00:54:41'),\n",
       " Timedelta('0 days 00:38:59'),\n",
       " Timedelta('0 days 00:38:59'),\n",
       " Timedelta('0 days 01:46:06'),\n",
       " Timedelta('0 days 01:15:27'),\n",
       " Timedelta('0 days 00:50:52'),\n",
       " Timedelta('0 days 00:50:52'),\n",
       " Timedelta('0 days 00:58:40'),\n",
       " Timedelta('0 days 01:07:55'),\n",
       " Timedelta('0 days 02:58:13'),\n",
       " Timedelta('0 days 00:50:52'),\n",
       " Timedelta('0 days 00:50:52'),\n",
       " Timedelta('0 days 00:50:52'),\n",
       " Timedelta('0 days 00:50:52'),\n",
       " Timedelta('0 days 00:50:52'),\n",
       " Timedelta('0 days 02:58:13'),\n",
       " Timedelta('0 days 00:56:12'),\n",
       " Timedelta('0 days 01:34:26'),\n",
       " Timedelta('0 days 01:34:26'),\n",
       " Timedelta('0 days 01:34:26'),\n",
       " Timedelta('0 days 00:56:12'),\n",
       " Timedelta('0 days 00:45:21'),\n",
       " Timedelta('0 days 00:59:12'),\n",
       " Timedelta('0 days 00:59:12'),\n",
       " Timedelta('0 days 01:11:21'),\n",
       " Timedelta('0 days 01:31:32'),\n",
       " Timedelta('0 days 01:21:20'),\n",
       " Timedelta('0 days 01:11:21'),\n",
       " Timedelta('0 days 01:21:20'),\n",
       " Timedelta('0 days 01:45:40'),\n",
       " Timedelta('0 days 01:21:20'),\n",
       " Timedelta('0 days 01:21:20'),\n",
       " Timedelta('0 days 01:21:20'),\n",
       " Timedelta('0 days 01:21:20'),\n",
       " Timedelta('0 days 00:43:45'),\n",
       " Timedelta('0 days 00:42:28'),\n",
       " Timedelta('0 days 01:17:30'),\n",
       " Timedelta('0 days 01:17:30'),\n",
       " Timedelta('0 days 01:17:30'),\n",
       " Timedelta('0 days 00:43:45'),\n",
       " Timedelta('0 days 00:43:45'),\n",
       " Timedelta('0 days 01:03:42'),\n",
       " Timedelta('0 days 01:03:42'),\n",
       " Timedelta('0 days 01:03:42'),\n",
       " Timedelta('0 days 01:03:42'),\n",
       " Timedelta('0 days 01:03:42'),\n",
       " Timedelta('0 days 00:49:20'),\n",
       " Timedelta('0 days 00:49:20'),\n",
       " Timedelta('0 days 00:43:45'),\n",
       " Timedelta('0 days 00:49:20'),\n",
       " Timedelta('0 days 00:50:49'),\n",
       " Timedelta('0 days 00:50:49'),\n",
       " Timedelta('0 days 00:34:45'),\n",
       " Timedelta('0 days 00:54:27'),\n",
       " Timedelta('0 days 00:54:27'),\n",
       " Timedelta('0 days 00:54:27'),\n",
       " Timedelta('0 days 00:54:27'),\n",
       " Timedelta('0 days 00:50:49'),\n",
       " Timedelta('0 days 00:34:45'),\n",
       " Timedelta('0 days 00:50:03'),\n",
       " Timedelta('0 days 00:50:03'),\n",
       " Timedelta('0 days 00:33:37'),\n",
       " Timedelta('0 days 00:49:38'),\n",
       " Timedelta('0 days 00:49:38'),\n",
       " Timedelta('0 days 00:49:38'),\n",
       " Timedelta('0 days 00:49:38'),\n",
       " Timedelta('0 days 01:08:04'),\n",
       " Timedelta('0 days 01:09:04'),\n",
       " Timedelta('0 days 01:20:25'),\n",
       " Timedelta('0 days 00:44:59'),\n",
       " Timedelta('0 days 02:10:44'),\n",
       " Timedelta('0 days 02:10:44'),\n",
       " Timedelta('0 days 00:54:16'),\n",
       " Timedelta('0 days 01:18:41'),\n",
       " Timedelta('0 days 01:18:41'),\n",
       " Timedelta('0 days 01:18:41'),\n",
       " Timedelta('0 days 01:18:41'),\n",
       " Timedelta('0 days 01:18:41'),\n",
       " Timedelta('0 days 00:47:02'),\n",
       " Timedelta('0 days 00:38:41'),\n",
       " Timedelta('0 days 00:47:02'),\n",
       " Timedelta('0 days 00:47:02'),\n",
       " Timedelta('0 days 00:47:02'),\n",
       " Timedelta('0 days 00:47:02'),\n",
       " Timedelta('0 days 01:35:47'),\n",
       " Timedelta('0 days 01:48:19'),\n",
       " Timedelta('0 days 01:35:47'),\n",
       " Timedelta('0 days 00:45:32'),\n",
       " Timedelta('0 days 01:07:05'),\n",
       " Timedelta('0 days 00:55:54'),\n",
       " Timedelta('0 days 01:02:33')]"
      ]
     },
     "execution_count": 23,
     "metadata": {},
     "output_type": "execute_result"
    }
   ],
   "source": [
    "times"
   ]
  },
  {
   "cell_type": "code",
   "execution_count": 31,
   "metadata": {
    "colab": {
     "base_uri": "https://localhost:8080/",
     "height": 415
    },
    "colab_type": "code",
    "executionInfo": {
     "elapsed": 1085,
     "status": "ok",
     "timestamp": 1576680514032,
     "user": {
      "displayName": "Hector Medeiros",
      "photoUrl": "",
      "userId": "01843101358687313990"
     },
     "user_tz": 180
    },
    "id": "HK5WHtos-Fuu",
    "outputId": "72dcaa8d-17b2-453d-bf56-0d417a42221d"
   },
   "outputs": [
    {
     "data": {
      "text/html": [
       "<div>\n",
       "<style scoped>\n",
       "    .dataframe tbody tr th:only-of-type {\n",
       "        vertical-align: middle;\n",
       "    }\n",
       "\n",
       "    .dataframe tbody tr th {\n",
       "        vertical-align: top;\n",
       "    }\n",
       "\n",
       "    .dataframe thead th {\n",
       "        text-align: right;\n",
       "    }\n",
       "</style>\n",
       "<table border=\"1\" class=\"dataframe\">\n",
       "  <thead>\n",
       "    <tr style=\"text-align: right;\">\n",
       "      <th></th>\n",
       "      <th>0</th>\n",
       "    </tr>\n",
       "  </thead>\n",
       "  <tbody>\n",
       "    <tr>\n",
       "      <th>0</th>\n",
       "      <td>00:46:07</td>\n",
       "    </tr>\n",
       "    <tr>\n",
       "      <th>1</th>\n",
       "      <td>00:46:07</td>\n",
       "    </tr>\n",
       "    <tr>\n",
       "      <th>2</th>\n",
       "      <td>00:55:11</td>\n",
       "    </tr>\n",
       "    <tr>\n",
       "      <th>3</th>\n",
       "      <td>00:54:07</td>\n",
       "    </tr>\n",
       "    <tr>\n",
       "      <th>4</th>\n",
       "      <td>00:54:07</td>\n",
       "    </tr>\n",
       "    <tr>\n",
       "      <th>5</th>\n",
       "      <td>00:54:07</td>\n",
       "    </tr>\n",
       "    <tr>\n",
       "      <th>6</th>\n",
       "      <td>00:54:07</td>\n",
       "    </tr>\n",
       "    <tr>\n",
       "      <th>7</th>\n",
       "      <td>00:58:21</td>\n",
       "    </tr>\n",
       "    <tr>\n",
       "      <th>8</th>\n",
       "      <td>00:46:07</td>\n",
       "    </tr>\n",
       "    <tr>\n",
       "      <th>9</th>\n",
       "      <td>00:54:07</td>\n",
       "    </tr>\n",
       "    <tr>\n",
       "      <th>10</th>\n",
       "      <td>00:54:07</td>\n",
       "    </tr>\n",
       "    <tr>\n",
       "      <th>11</th>\n",
       "      <td>00:58:21</td>\n",
       "    </tr>\n",
       "    <tr>\n",
       "      <th>12</th>\n",
       "      <td>00:46:07</td>\n",
       "    </tr>\n",
       "    <tr>\n",
       "      <th>13</th>\n",
       "      <td>00:46:07</td>\n",
       "    </tr>\n",
       "    <tr>\n",
       "      <th>14</th>\n",
       "      <td>00:46:07</td>\n",
       "    </tr>\n",
       "    <tr>\n",
       "      <th>15</th>\n",
       "      <td>00:46:07</td>\n",
       "    </tr>\n",
       "    <tr>\n",
       "      <th>16</th>\n",
       "      <td>01:37:45</td>\n",
       "    </tr>\n",
       "    <tr>\n",
       "      <th>17</th>\n",
       "      <td>00:54:07</td>\n",
       "    </tr>\n",
       "    <tr>\n",
       "      <th>18</th>\n",
       "      <td>00:46:07</td>\n",
       "    </tr>\n",
       "    <tr>\n",
       "      <th>19</th>\n",
       "      <td>00:46:07</td>\n",
       "    </tr>\n",
       "    <tr>\n",
       "      <th>20</th>\n",
       "      <td>00:46:07</td>\n",
       "    </tr>\n",
       "    <tr>\n",
       "      <th>21</th>\n",
       "      <td>00:46:07</td>\n",
       "    </tr>\n",
       "    <tr>\n",
       "      <th>22</th>\n",
       "      <td>00:46:07</td>\n",
       "    </tr>\n",
       "    <tr>\n",
       "      <th>23</th>\n",
       "      <td>00:58:21</td>\n",
       "    </tr>\n",
       "    <tr>\n",
       "      <th>24</th>\n",
       "      <td>00:46:07</td>\n",
       "    </tr>\n",
       "    <tr>\n",
       "      <th>25</th>\n",
       "      <td>00:54:07</td>\n",
       "    </tr>\n",
       "    <tr>\n",
       "      <th>26</th>\n",
       "      <td>00:54:07</td>\n",
       "    </tr>\n",
       "    <tr>\n",
       "      <th>27</th>\n",
       "      <td>00:54:07</td>\n",
       "    </tr>\n",
       "    <tr>\n",
       "      <th>28</th>\n",
       "      <td>00:54:07</td>\n",
       "    </tr>\n",
       "    <tr>\n",
       "      <th>29</th>\n",
       "      <td>00:55:11</td>\n",
       "    </tr>\n",
       "    <tr>\n",
       "      <th>...</th>\n",
       "      <td>...</td>\n",
       "    </tr>\n",
       "    <tr>\n",
       "      <th>208</th>\n",
       "      <td>00:33:37</td>\n",
       "    </tr>\n",
       "    <tr>\n",
       "      <th>209</th>\n",
       "      <td>00:49:38</td>\n",
       "    </tr>\n",
       "    <tr>\n",
       "      <th>210</th>\n",
       "      <td>00:49:38</td>\n",
       "    </tr>\n",
       "    <tr>\n",
       "      <th>211</th>\n",
       "      <td>00:49:38</td>\n",
       "    </tr>\n",
       "    <tr>\n",
       "      <th>212</th>\n",
       "      <td>00:49:38</td>\n",
       "    </tr>\n",
       "    <tr>\n",
       "      <th>213</th>\n",
       "      <td>01:08:04</td>\n",
       "    </tr>\n",
       "    <tr>\n",
       "      <th>214</th>\n",
       "      <td>01:09:04</td>\n",
       "    </tr>\n",
       "    <tr>\n",
       "      <th>215</th>\n",
       "      <td>01:20:25</td>\n",
       "    </tr>\n",
       "    <tr>\n",
       "      <th>216</th>\n",
       "      <td>00:44:59</td>\n",
       "    </tr>\n",
       "    <tr>\n",
       "      <th>217</th>\n",
       "      <td>02:10:44</td>\n",
       "    </tr>\n",
       "    <tr>\n",
       "      <th>218</th>\n",
       "      <td>02:10:44</td>\n",
       "    </tr>\n",
       "    <tr>\n",
       "      <th>219</th>\n",
       "      <td>00:54:16</td>\n",
       "    </tr>\n",
       "    <tr>\n",
       "      <th>220</th>\n",
       "      <td>01:18:41</td>\n",
       "    </tr>\n",
       "    <tr>\n",
       "      <th>221</th>\n",
       "      <td>01:18:41</td>\n",
       "    </tr>\n",
       "    <tr>\n",
       "      <th>222</th>\n",
       "      <td>01:18:41</td>\n",
       "    </tr>\n",
       "    <tr>\n",
       "      <th>223</th>\n",
       "      <td>01:18:41</td>\n",
       "    </tr>\n",
       "    <tr>\n",
       "      <th>224</th>\n",
       "      <td>01:18:41</td>\n",
       "    </tr>\n",
       "    <tr>\n",
       "      <th>225</th>\n",
       "      <td>00:47:02</td>\n",
       "    </tr>\n",
       "    <tr>\n",
       "      <th>226</th>\n",
       "      <td>00:38:41</td>\n",
       "    </tr>\n",
       "    <tr>\n",
       "      <th>227</th>\n",
       "      <td>00:47:02</td>\n",
       "    </tr>\n",
       "    <tr>\n",
       "      <th>228</th>\n",
       "      <td>00:47:02</td>\n",
       "    </tr>\n",
       "    <tr>\n",
       "      <th>229</th>\n",
       "      <td>00:47:02</td>\n",
       "    </tr>\n",
       "    <tr>\n",
       "      <th>230</th>\n",
       "      <td>00:47:02</td>\n",
       "    </tr>\n",
       "    <tr>\n",
       "      <th>231</th>\n",
       "      <td>01:35:47</td>\n",
       "    </tr>\n",
       "    <tr>\n",
       "      <th>232</th>\n",
       "      <td>01:48:19</td>\n",
       "    </tr>\n",
       "    <tr>\n",
       "      <th>233</th>\n",
       "      <td>01:35:47</td>\n",
       "    </tr>\n",
       "    <tr>\n",
       "      <th>234</th>\n",
       "      <td>00:45:32</td>\n",
       "    </tr>\n",
       "    <tr>\n",
       "      <th>235</th>\n",
       "      <td>01:07:05</td>\n",
       "    </tr>\n",
       "    <tr>\n",
       "      <th>236</th>\n",
       "      <td>00:55:54</td>\n",
       "    </tr>\n",
       "    <tr>\n",
       "      <th>237</th>\n",
       "      <td>01:02:33</td>\n",
       "    </tr>\n",
       "  </tbody>\n",
       "</table>\n",
       "<p>238 rows × 1 columns</p>\n",
       "</div>"
      ],
      "text/plain": [
       "           0\n",
       "0   00:46:07\n",
       "1   00:46:07\n",
       "2   00:55:11\n",
       "3   00:54:07\n",
       "4   00:54:07\n",
       "5   00:54:07\n",
       "6   00:54:07\n",
       "7   00:58:21\n",
       "8   00:46:07\n",
       "9   00:54:07\n",
       "10  00:54:07\n",
       "11  00:58:21\n",
       "12  00:46:07\n",
       "13  00:46:07\n",
       "14  00:46:07\n",
       "15  00:46:07\n",
       "16  01:37:45\n",
       "17  00:54:07\n",
       "18  00:46:07\n",
       "19  00:46:07\n",
       "20  00:46:07\n",
       "21  00:46:07\n",
       "22  00:46:07\n",
       "23  00:58:21\n",
       "24  00:46:07\n",
       "25  00:54:07\n",
       "26  00:54:07\n",
       "27  00:54:07\n",
       "28  00:54:07\n",
       "29  00:55:11\n",
       "..       ...\n",
       "208 00:33:37\n",
       "209 00:49:38\n",
       "210 00:49:38\n",
       "211 00:49:38\n",
       "212 00:49:38\n",
       "213 01:08:04\n",
       "214 01:09:04\n",
       "215 01:20:25\n",
       "216 00:44:59\n",
       "217 02:10:44\n",
       "218 02:10:44\n",
       "219 00:54:16\n",
       "220 01:18:41\n",
       "221 01:18:41\n",
       "222 01:18:41\n",
       "223 01:18:41\n",
       "224 01:18:41\n",
       "225 00:47:02\n",
       "226 00:38:41\n",
       "227 00:47:02\n",
       "228 00:47:02\n",
       "229 00:47:02\n",
       "230 00:47:02\n",
       "231 01:35:47\n",
       "232 01:48:19\n",
       "233 01:35:47\n",
       "234 00:45:32\n",
       "235 01:07:05\n",
       "236 00:55:54\n",
       "237 01:02:33\n",
       "\n",
       "[238 rows x 1 columns]"
      ]
     },
     "execution_count": 31,
     "metadata": {},
     "output_type": "execute_result"
    }
   ],
   "source": [
    "diff_bus_trips = pd.DataFrame(data=times)\n",
    "diff_bus_trips"
   ]
  },
  {
   "cell_type": "code",
   "execution_count": 32,
   "metadata": {
    "colab": {
     "base_uri": "https://localhost:8080/",
     "height": 202
    },
    "colab_type": "code",
    "executionInfo": {
     "elapsed": 980,
     "status": "ok",
     "timestamp": 1576681661900,
     "user": {
      "displayName": "Hector Medeiros",
      "photoUrl": "",
      "userId": "01843101358687313990"
     },
     "user_tz": 180
    },
    "id": "d8cRywUtx1rX",
    "outputId": "e97e6c46-d299-4d29-fad3-ad37ce9103c8"
   },
   "outputs": [
    {
     "data": {
      "text/html": [
       "<div>\n",
       "<style scoped>\n",
       "    .dataframe tbody tr th:only-of-type {\n",
       "        vertical-align: middle;\n",
       "    }\n",
       "\n",
       "    .dataframe tbody tr th {\n",
       "        vertical-align: top;\n",
       "    }\n",
       "\n",
       "    .dataframe thead th {\n",
       "        text-align: right;\n",
       "    }\n",
       "</style>\n",
       "<table border=\"1\" class=\"dataframe\">\n",
       "  <thead>\n",
       "    <tr style=\"text-align: right;\">\n",
       "      <th></th>\n",
       "      <th>horarios</th>\n",
       "      <th>primeiro_onibus</th>\n",
       "      <th>segundo_onibus</th>\n",
       "    </tr>\n",
       "  </thead>\n",
       "  <tbody>\n",
       "    <tr>\n",
       "      <th>0</th>\n",
       "      <td>00:46:07</td>\n",
       "      <td>2019-05-13 6:29:21</td>\n",
       "      <td>2019-05-13 7:15:28</td>\n",
       "    </tr>\n",
       "    <tr>\n",
       "      <th>2</th>\n",
       "      <td>00:55:11</td>\n",
       "      <td>2019-05-13 6:29:21</td>\n",
       "      <td>2019-05-13 7:24:32</td>\n",
       "    </tr>\n",
       "    <tr>\n",
       "      <th>4</th>\n",
       "      <td>00:54:07</td>\n",
       "      <td>2019-05-13 6:29:21</td>\n",
       "      <td>2019-05-13 7:23:28</td>\n",
       "    </tr>\n",
       "    <tr>\n",
       "      <th>6</th>\n",
       "      <td>00:54:07</td>\n",
       "      <td>2019-05-13 6:29:21</td>\n",
       "      <td>2019-05-13 7:23:28</td>\n",
       "    </tr>\n",
       "    <tr>\n",
       "      <th>8</th>\n",
       "      <td>00:46:07</td>\n",
       "      <td>2019-05-13 6:29:21</td>\n",
       "      <td>2019-05-13 7:15:28</td>\n",
       "    </tr>\n",
       "  </tbody>\n",
       "</table>\n",
       "</div>"
      ],
      "text/plain": [
       "  horarios     primeiro_onibus      segundo_onibus\n",
       "0 00:46:07  2019-05-13 6:29:21  2019-05-13 7:15:28\n",
       "2 00:55:11  2019-05-13 6:29:21  2019-05-13 7:24:32\n",
       "4 00:54:07  2019-05-13 6:29:21  2019-05-13 7:23:28\n",
       "6 00:54:07  2019-05-13 6:29:21  2019-05-13 7:23:28\n",
       "8 00:46:07  2019-05-13 6:29:21  2019-05-13 7:15:28"
      ]
     },
     "execution_count": 32,
     "metadata": {},
     "output_type": "execute_result"
    }
   ],
   "source": [
    "teste = pd.DataFrame({\n",
    "    'horarios': times,\n",
    "    'primeiro_onibus': start_time_first_bus,\n",
    "    'segundo_onibus': start_time_second_bus\n",
    "})\n",
    "\n",
    "\n",
    "scheduled_bus_times2 = teste.iloc[::2]\n",
    "scheduled_bus_times2.dropna()\n",
    "scheduled_bus_times2.head()"
   ]
  },
  {
   "cell_type": "code",
   "execution_count": 33,
   "metadata": {
    "colab": {},
    "colab_type": "code",
    "id": "Ww9wlroZwA_J"
   },
   "outputs": [],
   "source": [
    "#bus_itineraries[['otp_itinerary_id',\"otp_leg_id\",\"otp_mode\", \"bt_start_time\"]].tail(50)"
   ]
  },
  {
   "cell_type": "code",
   "execution_count": 34,
   "metadata": {
    "colab": {
     "base_uri": "https://localhost:8080/",
     "height": 202
    },
    "colab_type": "code",
    "executionInfo": {
     "elapsed": 1023,
     "status": "ok",
     "timestamp": 1576681676804,
     "user": {
      "displayName": "Hector Medeiros",
      "photoUrl": "",
      "userId": "01843101358687313990"
     },
     "user_tz": 180
    },
    "id": "qOTWb_8wp9k5",
    "outputId": "9cb0b743-e214-4a0e-d4d3-064470391817"
   },
   "outputs": [
    {
     "data": {
      "text/html": [
       "<div>\n",
       "<style scoped>\n",
       "    .dataframe tbody tr th:only-of-type {\n",
       "        vertical-align: middle;\n",
       "    }\n",
       "\n",
       "    .dataframe tbody tr th {\n",
       "        vertical-align: top;\n",
       "    }\n",
       "\n",
       "    .dataframe thead th {\n",
       "        text-align: right;\n",
       "    }\n",
       "</style>\n",
       "<table border=\"1\" class=\"dataframe\">\n",
       "  <thead>\n",
       "    <tr style=\"text-align: right;\">\n",
       "      <th></th>\n",
       "      <th>horarios</th>\n",
       "    </tr>\n",
       "  </thead>\n",
       "  <tbody>\n",
       "    <tr>\n",
       "      <th>0</th>\n",
       "      <td>00:46:07</td>\n",
       "    </tr>\n",
       "    <tr>\n",
       "      <th>2</th>\n",
       "      <td>00:55:11</td>\n",
       "    </tr>\n",
       "    <tr>\n",
       "      <th>4</th>\n",
       "      <td>00:54:07</td>\n",
       "    </tr>\n",
       "    <tr>\n",
       "      <th>6</th>\n",
       "      <td>00:54:07</td>\n",
       "    </tr>\n",
       "    <tr>\n",
       "      <th>8</th>\n",
       "      <td>00:46:07</td>\n",
       "    </tr>\n",
       "  </tbody>\n",
       "</table>\n",
       "</div>"
      ],
      "text/plain": [
       "  horarios\n",
       "0 00:46:07\n",
       "2 00:55:11\n",
       "4 00:54:07\n",
       "6 00:54:07\n",
       "8 00:46:07"
      ]
     },
     "execution_count": 34,
     "metadata": {},
     "output_type": "execute_result"
    }
   ],
   "source": [
    "#retira horário em que a diferença é negativa\n",
    "bus_times = diff_bus_trips.iloc[::2]\n",
    "bus_times.columns = ['horarios']\n",
    "bus_times.dropna()\n",
    "bus_times.head()"
   ]
  },
  {
   "cell_type": "code",
   "execution_count": 35,
   "metadata": {
    "colab": {},
    "colab_type": "code",
    "id": "eZ18hBUUvR-p"
   },
   "outputs": [],
   "source": [
    "#bus_times.to_csv('/bus_times.csv', index=False)"
   ]
  },
  {
   "cell_type": "code",
   "execution_count": 36,
   "metadata": {
    "colab": {
     "base_uri": "https://localhost:8080/",
     "height": 294
    },
    "colab_type": "code",
    "executionInfo": {
     "elapsed": 2561,
     "status": "ok",
     "timestamp": 1576678264572,
     "user": {
      "displayName": "Hector Medeiros",
      "photoUrl": "",
      "userId": "01843101358687313990"
     },
     "user_tz": 180
    },
    "id": "bhdGLV_D7nEM",
    "outputId": "0c74a8ac-b76b-46ea-98e8-bac25128f952"
   },
   "outputs": [
    {
     "data": {
      "text/html": [
       "<div>\n",
       "<style scoped>\n",
       "    .dataframe tbody tr th:only-of-type {\n",
       "        vertical-align: middle;\n",
       "    }\n",
       "\n",
       "    .dataframe tbody tr th {\n",
       "        vertical-align: top;\n",
       "    }\n",
       "\n",
       "    .dataframe thead th {\n",
       "        text-align: right;\n",
       "    }\n",
       "</style>\n",
       "<table border=\"1\" class=\"dataframe\">\n",
       "  <thead>\n",
       "    <tr style=\"text-align: right;\">\n",
       "      <th></th>\n",
       "      <th>horarios</th>\n",
       "    </tr>\n",
       "  </thead>\n",
       "  <tbody>\n",
       "    <tr>\n",
       "      <th>count</th>\n",
       "      <td>119</td>\n",
       "    </tr>\n",
       "    <tr>\n",
       "      <th>mean</th>\n",
       "      <td>0 days 01:04:23.605042</td>\n",
       "    </tr>\n",
       "    <tr>\n",
       "      <th>std</th>\n",
       "      <td>0 days 00:28:05.792140</td>\n",
       "    </tr>\n",
       "    <tr>\n",
       "      <th>min</th>\n",
       "      <td>0 days 00:33:37</td>\n",
       "    </tr>\n",
       "    <tr>\n",
       "      <th>25%</th>\n",
       "      <td>0 days 00:46:07</td>\n",
       "    </tr>\n",
       "    <tr>\n",
       "      <th>50%</th>\n",
       "      <td>0 days 00:54:07</td>\n",
       "    </tr>\n",
       "    <tr>\n",
       "      <th>75%</th>\n",
       "      <td>0 days 01:09:54.500000</td>\n",
       "    </tr>\n",
       "    <tr>\n",
       "      <th>max</th>\n",
       "      <td>0 days 02:58:13</td>\n",
       "    </tr>\n",
       "  </tbody>\n",
       "</table>\n",
       "</div>"
      ],
      "text/plain": [
       "                     horarios\n",
       "count                     119\n",
       "mean   0 days 01:04:23.605042\n",
       "std    0 days 00:28:05.792140\n",
       "min           0 days 00:33:37\n",
       "25%           0 days 00:46:07\n",
       "50%           0 days 00:54:07\n",
       "75%    0 days 01:09:54.500000\n",
       "max           0 days 02:58:13"
      ]
     },
     "execution_count": 36,
     "metadata": {},
     "output_type": "execute_result"
    }
   ],
   "source": [
    "bus_times.describe()"
   ]
  },
  {
   "cell_type": "code",
   "execution_count": 37,
   "metadata": {
    "colab": {
     "base_uri": "https://localhost:8080/",
     "height": 52
    },
    "colab_type": "code",
    "executionInfo": {
     "elapsed": 2545,
     "status": "ok",
     "timestamp": 1576678264573,
     "user": {
      "displayName": "Hector Medeiros",
      "photoUrl": "",
      "userId": "01843101358687313990"
     },
     "user_tz": 180
    },
    "id": "OB0q1xxGlkF4",
    "outputId": "a43336f2-d0f6-4b06-a48b-f3e74a24c831"
   },
   "outputs": [
    {
     "data": {
      "text/plain": [
       "horarios    timedelta64[ns]\n",
       "dtype: object"
      ]
     },
     "execution_count": 37,
     "metadata": {},
     "output_type": "execute_result"
    }
   ],
   "source": [
    "bus_times.dtypes"
   ]
  },
  {
   "cell_type": "code",
   "execution_count": 38,
   "metadata": {
    "colab": {
     "base_uri": "https://localhost:8080/",
     "height": 371
    },
    "colab_type": "code",
    "executionInfo": {
     "elapsed": 1201,
     "status": "ok",
     "timestamp": 1576680754815,
     "user": {
      "displayName": "Hector Medeiros",
      "photoUrl": "",
      "userId": "01843101358687313990"
     },
     "user_tz": 180
    },
    "id": "j62d3B6z4e1U",
    "outputId": "c6f9b53a-9731-4c60-b8a0-0bf2f13af77e"
   },
   "outputs": [
    {
     "data": {
      "text/plain": [
       "Text(0.5, 1.0, \"Distribuição do tempo das 'bakdeações'\")"
      ]
     },
     "execution_count": 38,
     "metadata": {},
     "output_type": "execute_result"
    },
    {
     "data": {
      "image/png": "[encoded data removed]",
      "text/plain": [
       "<Figure size 720x360 with 1 Axes>"
      ]
     },
     "metadata": {
      "needs_background": "light"
     },
     "output_type": "display_data"
    }
   ],
   "source": [
    "times_plot = bus_times.astype('timedelta64[m]').plot.hist(alpha = 0.8, figsize=(10,5),  color=\"orange\")\n",
    "times_plot.set_xlabel(\"Tempo em minutos\")\n",
    "times_plot.set_ylabel(\"Frequência\")\n",
    "times_plot.set_title(\"Distribuição do tempo das 'bakdeações'\")"
   ]
  },
  {
   "cell_type": "code",
   "execution_count": 39,
   "metadata": {
    "colab": {
     "base_uri": "https://localhost:8080/",
     "height": 371
    },
    "colab_type": "code",
    "executionInfo": {
     "elapsed": 1148,
     "status": "ok",
     "timestamp": 1576680576914,
     "user": {
      "displayName": "Hector Medeiros",
      "photoUrl": "",
      "userId": "01843101358687313990"
     },
     "user_tz": 180
    },
    "id": "tWxbfrfqgktE",
    "outputId": "4729badc-d9c7-4e1b-8ead-dc507d39bcf4"
   },
   "outputs": [
    {
     "data": {
      "text/plain": [
       "Text(0.5, 1.0, 'Gráfico de densidade')"
      ]
     },
     "execution_count": 39,
     "metadata": {},
     "output_type": "execute_result"
    },
    {
     "data": {
      "image/png": "[encoded data removed]",
      "text/plain": [
       "<Figure size 720x360 with 1 Axes>"
      ]
     },
     "metadata": {
      "needs_background": "light"
     },
     "output_type": "display_data"
    }
   ],
   "source": [
    "density_bus_times = bus_times.astype('timedelta64[m]').plot.density(figsize=(10,5))\n",
    "density_bus_times.set_xlabel(\"Tempo em minutos\")\n",
    "density_bus_times.set_ylabel(\"Densidade\")\n",
    "density_bus_times.set_title(\"Gráfico de densidade\")"
   ]
  },
  {
   "cell_type": "code",
   "execution_count": 40,
   "metadata": {
    "colab": {
     "base_uri": "https://localhost:8080/",
     "height": 283
    },
    "colab_type": "code",
    "executionInfo": {
     "elapsed": 3710,
     "status": "ok",
     "timestamp": 1576678265772,
     "user": {
      "displayName": "Hector Medeiros",
      "photoUrl": "",
      "userId": "01843101358687313990"
     },
     "user_tz": 180
    },
    "id": "5Dber9Le-Kbd",
    "outputId": "0ba4b670-fe73-44e9-c845-af040d625554"
   },
   "outputs": [
    {
     "data": {
      "text/plain": [
       "<matplotlib.axes._subplots.AxesSubplot at 0x7fd14ee14518>"
      ]
     },
     "execution_count": 40,
     "metadata": {},
     "output_type": "execute_result"
    },
    {
     "data": {
      "image/png": "[encoded data removed]",
      "text/plain": [
       "<Figure size 432x288 with 1 Axes>"
      ]
     },
     "metadata": {
      "needs_background": "light"
     },
     "output_type": "display_data"
    }
   ],
   "source": [
    "bus_times.astype('timedelta64[m]').plot.box()"
   ]
  },
  {
   "cell_type": "markdown",
   "metadata": {
    "colab_type": "text",
    "id": "1HXU2QrOQp2P"
   },
   "source": [
    "##Análise sobre a integração temporal\n",
    "\n",
    "- Quantos itinerários o  tempo entre embarcar no primeiro ônibuse e realizar a baldeação é menor que 70 minutos ?  "
   ]
  },
  {
   "cell_type": "markdown",
   "metadata": {
    "colab_type": "text",
    "id": "hhKcUyzhaJFh"
   },
   "source": [
    "Número total de horários de ônibus após validação"
   ]
  },
  {
   "cell_type": "code",
   "execution_count": 41,
   "metadata": {
    "colab": {
     "base_uri": "https://localhost:8080/",
     "height": 35
    },
    "colab_type": "code",
    "executionInfo": {
     "elapsed": 3699,
     "status": "ok",
     "timestamp": 1576678265772,
     "user": {
      "displayName": "Hector Medeiros",
      "photoUrl": "",
      "userId": "01843101358687313990"
     },
     "user_tz": 180
    },
    "id": "nYm_f2ZpUvsm",
    "outputId": "9af4cd51-726e-4845-f1d0-42cc07675442"
   },
   "outputs": [
    {
     "data": {
      "text/plain": [
       "119"
      ]
     },
     "execution_count": 41,
     "metadata": {},
     "output_type": "execute_result"
    }
   ],
   "source": [
    "bus_times.size"
   ]
  },
  {
   "cell_type": "code",
   "execution_count": 42,
   "metadata": {
    "colab": {},
    "colab_type": "code",
    "id": "rRItGFX1SKvO"
   },
   "outputs": [],
   "source": [
    "gte_70min = bus_times[bus_times.horarios > timedelta(minutes=70)]\n",
    "lte_70min = bus_times[bus_times.horarios <= timedelta(minutes=70)]"
   ]
  },
  {
   "cell_type": "markdown",
   "metadata": {
    "colab_type": "text",
    "id": "H25q5seKaTC6"
   },
   "source": [
    "Número total de itinerários que o tempo entre o primeiro e o segundo ônibus é maior que 70 minutos:"
   ]
  },
  {
   "cell_type": "code",
   "execution_count": 43,
   "metadata": {
    "colab": {
     "base_uri": "https://localhost:8080/",
     "height": 35
    },
    "colab_type": "code",
    "executionInfo": {
     "elapsed": 3685,
     "status": "ok",
     "timestamp": 1576678265773,
     "user": {
      "displayName": "Hector Medeiros",
      "photoUrl": "",
      "userId": "01843101358687313990"
     },
     "user_tz": 180
    },
    "id": "o5IqmTZHXISh",
    "outputId": "9024054c-f08b-4360-ec6e-c97a539be1d9"
   },
   "outputs": [
    {
     "data": {
      "text/plain": [
       "28"
      ]
     },
     "execution_count": 43,
     "metadata": {},
     "output_type": "execute_result"
    }
   ],
   "source": [
    "gte_70min.size"
   ]
  },
  {
   "cell_type": "markdown",
   "metadata": {
    "colab_type": "text",
    "id": "D_iPqB-jaiov"
   },
   "source": [
    "Número total de itinerários que o tempo entre o primeiro e o segundo ônibus é menor que 70 minutos:"
   ]
  },
  {
   "cell_type": "code",
   "execution_count": 44,
   "metadata": {
    "colab": {
     "base_uri": "https://localhost:8080/",
     "height": 35
    },
    "colab_type": "code",
    "executionInfo": {
     "elapsed": 3677,
     "status": "ok",
     "timestamp": 1576678265774,
     "user": {
      "displayName": "Hector Medeiros",
      "photoUrl": "",
      "userId": "01843101358687313990"
     },
     "user_tz": 180
    },
    "id": "Bl8YCFakXNcJ",
    "outputId": "bec0c1e6-9a1b-4b81-e68d-65f7de9698a2"
   },
   "outputs": [
    {
     "data": {
      "text/plain": [
       "91"
      ]
     },
     "execution_count": 44,
     "metadata": {},
     "output_type": "execute_result"
    }
   ],
   "source": [
    "lte_70min.size"
   ]
  },
  {
   "cell_type": "code",
   "execution_count": 79,
   "metadata": {
    "colab": {
     "base_uri": "https://localhost:8080/",
     "height": 35
    },
    "colab_type": "code",
    "executionInfo": {
     "elapsed": 966,
     "status": "ok",
     "timestamp": 1576679206103,
     "user": {
      "displayName": "Hector Medeiros",
      "photoUrl": "",
      "userId": "01843101358687313990"
     },
     "user_tz": 180
    },
    "id": "Rq-Shn4ZZEM-",
    "outputId": "d4a50c0e-660f-41a5-c122-bcb75aeb0a7a"
   },
   "outputs": [
    {
     "data": {
      "text/plain": [
       "23.52941176470588"
      ]
     },
     "execution_count": 79,
     "metadata": {
      "tags": []
     },
     "output_type": "execute_result"
    }
   ],
   "source": [
    "#porcentagem de ônibus que estouram os 70 minutos para a integração temporal\n",
    "percentage_gte = gte_70min.size / bus_times.size\n",
    "percentage_gte * 100"
   ]
  },
  {
   "cell_type": "code",
   "execution_count": 100,
   "metadata": {
    "colab": {
     "base_uri": "https://localhost:8080/",
     "height": 371
    },
    "colab_type": "code",
    "executionInfo": {
     "elapsed": 1179,
     "status": "ok",
     "timestamp": 1576680737998,
     "user": {
      "displayName": "Hector Medeiros",
      "photoUrl": "",
      "userId": "01843101358687313990"
     },
     "user_tz": 180
    },
    "id": "R_WdktjTi5me",
    "outputId": "5ccd2d42-1aa1-42c2-f538-c92e050279a5"
   },
   "outputs": [
    {
     "data": {
      "text/plain": [
       "Text(0.5, 1.0, 'Distribuição do tempo de espera maior que 70 minutos')"
      ]
     },
     "execution_count": 100,
     "metadata": {
      "tags": []
     },
     "output_type": "execute_result"
    },
    {
     "data": {
      "image/png": "[encoded data removed]",
      "text/plain": [
       "<Figure size 720x360 with 1 Axes>"
      ]
     },
     "metadata": {
      "tags": []
     },
     "output_type": "display_data"
    }
   ],
   "source": [
    "trips_gte70 = gte_70min.astype('timedelta64[m]').plot.hist(alpha = 0.8, figsize=(10,5),  color=\"orange\")\n",
    "trips_gte70.set_xlabel(\"Tempo em minutos\")\n",
    "trips_gte70.set_ylabel(\"Frequência\")\n",
    "trips_gte70.set_title(\"Distribuição do tempo de espera maior que 70 minutos\")"
   ]
  },
  {
   "cell_type": "code",
   "execution_count": 66,
   "metadata": {
    "colab": {
     "base_uri": "https://localhost:8080/",
     "height": 337
    },
    "colab_type": "code",
    "executionInfo": {
     "elapsed": 1229,
     "status": "ok",
     "timestamp": 1576678581229,
     "user": {
      "displayName": "Hector Medeiros",
      "photoUrl": "",
      "userId": "01843101358687313990"
     },
     "user_tz": 180
    },
    "id": "kPalU0v9oKiV",
    "outputId": "c2b6c026-97e9-4a41-9e14-ee1c3c210734"
   },
   "outputs": [
    {
     "data": {
      "text/plain": [
       "<matplotlib.axes._subplots.AxesSubplot at 0x7fd886eac198>"
      ]
     },
     "execution_count": 66,
     "metadata": {
      "tags": []
     },
     "output_type": "execute_result"
    },
    {
     "data": {
      "image/png": "[encoded data removed]",
      "text/plain": [
       "<Figure size 720x360 with 1 Axes>"
      ]
     },
     "metadata": {
      "tags": []
     },
     "output_type": "display_data"
    }
   ],
   "source": [
    "gte_70min.astype('timedelta64[m]').plot.box(figsize=(10,5))"
   ]
  }
 ],
 "metadata": {
  "colab": {
   "collapsed_sections": [],
   "name": "Copy of data_bus_visualization.ipynb",
   "provenance": [
    {
     "file_id": "1u-Pq5eWBHS1lLonfMii0xuXc1O8QdypJ",
     "timestamp": 1576674874280
    }
   ],
   "toc_visible": true
  },
  "kernelspec": {
   "display_name": "Python 3",
   "language": "python",
   "name": "python3"
  },
  "language_info": {
   "codemirror_mode": {
    "name": "ipython",
    "version": 3
   },
   "file_extension": ".py",
   "mimetype": "text/x-python",
   "name": "python",
   "nbconvert_exporter": "python",
   "pygments_lexer": "ipython3",
   "version": "3.6.7"
  }
 },
 "nbformat": 4,
 "nbformat_minor": 1
}
