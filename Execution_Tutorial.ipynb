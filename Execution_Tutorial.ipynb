{
 "cells": [
  {
   "cell_type": "markdown",
   "metadata": {},
   "source": [
    "# Execution Tutorial for Transfer Time Analysis of Campina Grande buses"
   ]
  },
  {
   "cell_type": "markdown",
   "metadata": {},
   "source": [
    "### 1. Matching GPS-Shape-Stop\n",
    "\n",
    "**Input:** GPS, GTFS\n",
    "\n",
    "Time execution per day = 1 min\n",
    "\n",
    "**Output:**"
   ]
  },
  {
   "cell_type": "raw",
   "metadata": {},
   "source": [
    "route,tripNum,shapeId,routeFrequency,shapeSequence,shapeLat,shapeLon,distanceTraveledShape,busCode,gpsPointId,gpsLat,gpsLon,distanceToShapePoint,gps_datetime,stopPointId,problem"
   ]
  },
  {
   "cell_type": "markdown",
   "metadata": {},
   "source": [
    "### 2. Get OTP itineraries\n",
    "**Input:** matchingGP3S, otpServerURL, initialDate, finalDate\n",
    "\n",
    "**cardNum**,**boarding_datetime**,gps_datetime,route,busCode,stopPointId\n",
    "\n",
    "#### 2.1 Preprocessing MatchingGP3S\n",
    "\n",
    "* Simulating boarding time as gps time\n",
    "* Matching possibles next stops (destiny)\n",
    "\n",
    "#### 2.1 Getting OTP itineraries with get_otp_itineraries.py\n"
   ]
  }
 ],
 "metadata": {
  "kernelspec": {
   "display_name": "Python 3",
   "language": "python",
   "name": "python3"
  },
  "language_info": {
   "codemirror_mode": {
    "name": "ipython",
    "version": 3
   },
   "file_extension": ".py",
   "mimetype": "text/x-python",
   "name": "python",
   "nbconvert_exporter": "python",
   "pygments_lexer": "ipython3",
   "version": "3.6.7"
  }
 },
 "nbformat": 4,
 "nbformat_minor": 2
}
