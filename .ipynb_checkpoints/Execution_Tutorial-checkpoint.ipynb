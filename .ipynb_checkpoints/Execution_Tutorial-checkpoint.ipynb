{
 "cells": [
  {
   "cell_type": "markdown",
   "metadata": {},
   "source": [
    "# Execution Tutorial for Transfer Time Analysis of Campina Grande buses"
   ]
  },
  {
   "cell_type": "markdown",
   "metadata": {},
   "source": [
    "### 1. Matching GPS-Shape-Stop\n",
    "\n",
    "**Input:** GPS, GTFS\n",
    "\n",
    "Time execution per day = 1 min\n",
    "\n",
    "**Output:**"
   ]
  },
  {
   "cell_type": "raw",
   "metadata": {},
   "source": [
    "route,tripNum,shapeId,routeFrequency,shapeSequence,shapeLat,shapeLon,distanceTraveledShape,busCode,gpsPointId,gpsLat,gpsLon,distanceToShapePoint,gps_datetime,stopPointId,problem"
   ]
  },
  {
   "cell_type": "markdown",
   "metadata": {},
   "source": [
    "### 2. Get OTP itineraries\n",
    "**Input:** matchingGP3S, otpServerURL, initialDate, finalDate\n",
    "\n",
    "**cardNum**,**boarding_datetime**,gps_datetime,route,busCode,stopPointId\n",
    "\n",
    "#### 2.1 Preprocessing MatchingGP3S\n",
    "\n",
    "* Simulating boarding time as gps time\n",
    "* Matching possibles next stops (destiny)\n",
    "\n",
    "#### 2.1 Getting OTP itineraries with get_otp_itineraries.py\n"
   ]
  },
  {
   "cell_type": "code",
   "execution_count": 13,
   "metadata": {},
   "outputs": [],
   "source": [
    "#Libraries\n",
    "\n",
    "#Python Libs\n",
    "import sys\n",
    "import os\n",
    "import glob\n",
    "from datetime import datetime\n",
    "import json\n",
    "import urllib2\n",
    "import time\n",
    "import os\n",
    "import requests\n",
    "\n",
    "#Data Analysis Libs\n",
    "import pandas as pd\n",
    "import numpy as np"
   ]
  },
  {
   "cell_type": "code",
   "execution_count": 14,
   "metadata": {},
   "outputs": [],
   "source": [
    "#Constants\n",
    "MIN_NUM_ARGS = 4 \n",
    "first_cols = ['cardNum', 'boarding_datetime','gps_datetime','route','busCode','stopPointId']\n",
    "boarding_key_cols = ['cardNum','boarding_datetime']\n",
    "gps_key_cols = ['route','busCode','tripNum','stopPointId']\n",
    "sort_cols = boarding_key_cols + gps_key_cols[:-1] + ['gps_datetime']\n",
    "max_match_diff = 1800\n"
   ]
  },
  {
   "cell_type": "code",
   "execution_count": 42,
   "metadata": {},
   "outputs": [],
   "source": [
    "#Functions\n",
    "def printUsage():\n",
    "    print \"Usage: \" + sys.argv[0] + \" <enhanced-buste-folder-path> <output-folder-path> <otp-server-url> <initial-date> <final-date>\"\n",
    "    \n",
    "def get_otp_itineraries(otp_url,o_lat,o_lon,d_lat,d_lon,date,time,verbose=False):\n",
    "    print(\"entrou no método\")\n",
    "    otp_http_request = 'routers/{}/plan?fromPlace={},{}&toPlace={},{}&mode=TRANSIT,WALK&date={}&time={}&numItineraries=10&maxWalkingDistance=1000'\n",
    "    \n",
    "    otp_request_url = otp_url + otp_http_request.format(o_lat,o_lon,d_lat,d_lon,date,time)\n",
    "\n",
    "    if verbose:\n",
    "        print otp_request_url\n",
    "    return json.loads(urllib2.urlopen(otp_request_url).read())\n",
    "\n",
    "def get_otp_suggested_trips(od_matrix,otp_url):\n",
    "    \n",
    "    req_duration = []\n",
    "    trips_otp_response = {}\n",
    "    counter = 0\n",
    "    for index, row in od_matrix.iterrows():\n",
    "        print(\"entrou nesse loop\")\n",
    "        id=float(row['stopPointId'])\n",
    "        date = row['gps_datetime'].strftime('%Y-%m-%d ')\n",
    "        start_time = (row['gps_datetime']-pd.Timedelta('2 min')).strftime('%H:%M:%S')\n",
    "        req_start_time = time.time()\n",
    "        #UFCG -7.217167, -35.908995\n",
    "        print(\"vai entrar no ponto critico\")\n",
    "        trip_plan = get_otp_itineraries(otp_url,row['shapeLat'], row['shapeLon'], '-7.217167', '-35.908995', date,start_time,'')\n",
    "        print(\"PAssou do ponto critico\")\n",
    "        print(trip_plan)\n",
    "        req_end_time = time.time()\n",
    "        req_time = req_end_time - req_start_time\n",
    "        req_duration.append((id,req_time))\n",
    "        print(\"OTP request took \", req_end_time - req_start_time,\"seconds.\")\n",
    "        trips_otp_response[id] = trip_plan\n",
    "        counter+=1\n",
    "\n",
    "        req_dur_df = pd.DataFrame().from_records(req_duration,columns=['id','duration'])\n",
    "    print req_dur_df.duration.describe()\t\n",
    "\n",
    "    return trips_otp_response\n",
    "\n",
    "def extract_otp_trips_legs(otp_trips):\n",
    "    trips_legs = []\n",
    "\n",
    "    for trip in otp_trips.keys():\n",
    "        if 'plan' in otp_trips[trip]:\n",
    "            itinerary_id = 1\n",
    "            for itinerary in otp_trips[trip]['plan']['itineraries']:\n",
    "                date = otp_trips[trip]['plan']['date']/1000\n",
    "                leg_id = 1\n",
    "                for leg in itinerary['legs']:\n",
    "                    route = leg['route'] if leg['route'] != '' else None\n",
    "                    fromStopId = leg['from']['stopId'].split(':')[1] if leg['mode'] == 'BUS' else None\n",
    "                    toStopId = leg['to']['stopId'].split(':')[1] if leg['mode'] == 'BUS' else None\n",
    "                    start_time = long(leg['startTime'])/1000\n",
    "                    end_time = long(leg['endTime'])/1000\n",
    "                    duration = (end_time - start_time)/60\n",
    "                    trips_legs.append((date,trip,itinerary_id,leg_id,start_time,end_time,leg['mode'],route,fromStopId,toStopId, duration))\n",
    "                    \n",
    "                    leg_id += 1\n",
    "                    itinerary_id += 1\n",
    "                return trips_legs\n",
    "\n",
    "def prepare_otp_legs_df(otp_legs_list):\n",
    "    labels=['date','user_trip_id','itinerary_id','leg_id','otp_start_time','otp_end_time','mode','route','from_stop_id','to_stop_id','otp_duration_mins']\n",
    "    return pd.DataFrame.from_records(data=otp_legs_list, columns=labels) \\\n",
    "                    .assign(date = lambda x: pd.to_datetime(x['date'],unit='s').dt.strftime('%Y-%m-%d'),\n",
    "                            otp_duration_mins = lambda x : (x['otp_end_time'] - x['otp_start_time'])/60,\n",
    "                            route = lambda x : pd.to_numeric(x['route'],errors='coerce'),\n",
    "                            from_stop_id = lambda x : pd.to_numeric(x['from_stop_id'],errors='coerce'),\n",
    "                            to_stop_id = lambda x : pd.to_numeric(x['to_stop_id'],errors='coerce')) \\\n",
    "                    .assign(otp_start_time = lambda x : pd.to_datetime(x['otp_start_time'], unit='s'),\n",
    "                            otp_end_time = lambda x : pd.to_datetime(x['otp_end_time'], unit='s')) \\\n",
    "                    .sort_values(by=['date','user_trip_id','itinerary_id','otp_start_time'])\n",
    "\n"
   ]
  },
  {
   "cell_type": "code",
   "execution_count": 43,
   "metadata": {},
   "outputs": [
    {
     "name": "stdout",
     "output_type": "stream",
     "text": [
      "Processing file /home/hector/TransferTimeAnalysisCG/workspace/python/people-paths/trips-destination-inference/data/2019_05_13_user_trips_.csv\n",
      "entrou nesse loop\n",
      "vai entrar no ponto critico\n",
      "entrou no método\n",
      "http://localhost:5601/otp/\n",
      "tuple index out of range\n",
      "Error in processing file 2019_05_13_user_trips_\n"
     ]
    }
   ],
   "source": [
    "#Main\n",
    "#if __name__ == \"__main__\":\n",
    "    #if len(sys.argv) < MIN_NUM_ARGS:\n",
    "       # print \"Error: Wrong Usage!\"\n",
    "        #printUsage()\n",
    "        #sys.exit(1)\n",
    "\n",
    "#user_trips_file = sys.argv[1]\n",
    "#output_folder_path = sys.argv[2]\n",
    "#otp_server_url = sys.argv[3]\n",
    "\n",
    "\n",
    "user_trips_file = os.getcwd() + \"/workspace/python/people-paths/trips-destination-inference/data/2019_05_13_user_trips_.csv\"\n",
    "output_folder_path = os.getcwd() + \"/workspace/python/people-paths/trips-destination-inference/data/output/\" \n",
    "otp_server_url = \"http://localhost:5601/otp/\"\n",
    "\n",
    "print \"Processing file\", user_trips_file\n",
    "file_name = user_trips_file.split('/')[-1].replace('.csv','')\n",
    "file_date = pd.to_datetime(file_name.split('_user_trips_')[0],format='%Y_%m_%d')\n",
    "if (file_date.dayofweek == 6):\n",
    "    print \"File date is sunday. File will not be processed.\"\n",
    "else:\n",
    "    try:\n",
    "        user_trips = pd.read_csv(user_trips_file, low_memory=False)\n",
    "        # Filtering just trips starting from Hector's home (bus stop)\n",
    "        gps_trips = user_trips.loc[(user_trips['stopPointId'] == 491551)]\n",
    "        gps_trips = gps_trips.loc[(gps_trips['gps_datetime'] != '-')] \n",
    "        gps_trips['gps_datetime'] = pd.to_datetime(gps_trips['gps_datetime'], format='%d-%m-%Y %H:%M:%S')\n",
    "        #print(gps_trips.head())\n",
    "        otp_suggestions = get_otp_suggested_trips(gps_trips,otp_server_url)\n",
    "        otp_legs_df = prepare_otp_legs_df(extract_otp_trips_legs(otp_suggestions))\n",
    "        \n",
    "        otp_legs_df.to_csv(output_folder_path + '/' + file_name + '_otp_itineraries.csv',index=False)\n",
    "    except Exception as e:\n",
    "        print e\n",
    "        print \"Error in processing file \" + file_name\n"
   ]
  },
  {
   "cell_type": "code",
   "execution_count": null,
   "metadata": {},
   "outputs": [],
   "source": [
    "\"10-05-2018 10:00:50\""
   ]
  }
 ],
 "metadata": {
  "kernelspec": {
   "display_name": "Python 2",
   "language": "python",
   "name": "python2"
  },
  "language_info": {
   "codemirror_mode": {
    "name": "ipython",
    "version": 2
   },
   "file_extension": ".py",
   "mimetype": "text/x-python",
   "name": "python",
   "nbconvert_exporter": "python",
   "pygments_lexer": "ipython2",
   "version": "2.7.16"
  }
 },
 "nbformat": 4,
 "nbformat_minor": 2
}
